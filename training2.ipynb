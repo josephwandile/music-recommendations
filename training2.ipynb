{
 "cells": [
  {
   "cell_type": "code",
   "execution_count": 1,
   "metadata": {
    "collapsed": false,
    "deletable": true,
    "editable": true
   },
   "outputs": [
    {
     "name": "stderr",
     "output_type": "stream",
     "text": [
      "/Library/Python/2.7/site-packages/sklearn/cross_validation.py:44: DeprecationWarning: This module was deprecated in version 0.18 in favor of the model_selection module into which all the refactored classes and functions are moved. Also note that the interface of the new CV iterators are different from that of this module. This module will be removed in 0.20.\n",
      "  \"This module will be removed in 0.20.\", DeprecationWarning)\n"
     ]
    }
   ],
   "source": [
    "import csv\n",
    "import sys, os\n",
    "from scipy.sparse import *\n",
    "from sklearn.cross_validation import train_test_split\n",
    "from sklearn.ensemble import *\n",
    "from sklearn.linear_model import *\n",
    "import cPickle as pkl\n",
    "from sklearn.svm import *\n",
    "import numpy as np\n",
    "from sklearn.feature_extraction import DictVectorizer\n",
    "from pyfm import pylibfm\n",
    "from sklearn.preprocessing import *"
   ]
  },
  {
   "cell_type": "code",
   "execution_count": 3,
   "metadata": {
    "collapsed": false,
    "deletable": true,
    "editable": true
   },
   "outputs": [
    {
     "name": "stdout",
     "output_type": "stream",
     "text": [
      "loading labels\n"
     ]
    }
   ],
   "source": [
    "# print \"loading data\"\n",
    "# with open('X.pkl','rb') as f:\n",
    "#     training_data = pkl.load(f)\n",
    "print \"loading labels\"\n",
    "with open('Y.pkl','rb') as f:\n",
    "    training_labels = pkl.load(f)"
   ]
  },
  {
   "cell_type": "code",
   "execution_count": 4,
   "metadata": {
    "collapsed": true,
    "deletable": true,
    "editable": true
   },
   "outputs": [],
   "source": [
    "def train(X, y, clf):\n",
    "    X_train, X_val, y_train, y_val = train_test_split(X, y, test_size=0.2)\n",
    "    print \"fitting\"\n",
    "    clf.fit(X_train, y_train)\n",
    "\n",
    "    print \"predicting\"\n",
    "    preds = clf.predict(X_val)\n",
    "\n",
    "    from sklearn.metrics import mean_absolute_error\n",
    "    print(\"RF MSE: %.4f\" % mean_absolute_error(y_val, preds))"
   ]
  },
  {
   "cell_type": "code",
   "execution_count": 6,
   "metadata": {
    "collapsed": false,
    "deletable": true,
    "editable": true
   },
   "outputs": [
    {
     "name": "stdout",
     "output_type": "stream",
     "text": [
      "fitting\n",
      "predicting\n",
      "RF MSE: 169.5150\n"
     ]
    }
   ],
   "source": [
    "clf = RandomForestRegressor(n_estimators=32, n_jobs=-1)\n",
    "\n",
    "v = DictVectorizer()\n",
    "n_train = 40000\n",
    "td = v.fit_transform(training_data[:n_train])\n",
    "ty = training_labels[:n_train]\n",
    "train(td, ty, clf)"
   ]
  },
  {
   "cell_type": "code",
   "execution_count": 7,
   "metadata": {
    "collapsed": false,
    "deletable": true,
    "editable": true
   },
   "outputs": [
    {
     "name": "stdout",
     "output_type": "stream",
     "text": [
      "RF MSE: 166.0119\n"
     ]
    }
   ],
   "source": [
    "valx = v.transform(training_data[-10000:])\n",
    "valy = training_labels[-10000:]\n",
    "preds = clf.predict(valx)\n",
    "from sklearn.metrics import mean_absolute_error\n",
    "print(\"RF MSE: %.4f\" % mean_absolute_error(valy, preds))"
   ]
  },
  {
   "cell_type": "code",
   "execution_count": 16,
   "metadata": {
    "collapsed": false,
    "deletable": true,
    "editable": true
   },
   "outputs": [
    {
     "name": "stdout",
     "output_type": "stream",
     "text": [
      "{'num_plays': 7288904, 'num_listeners': 21051, 'average_listener_age': 22.985186446449855, 'user_play_count': 1904, 'm': 1, 'user_avg_popularity': 64.4, 'user_region_Europe': 1, 'share_genre': 1, 'user_age': 25.0, 'artist_region_Europe': 1, 'prop_male_listeners': 0.6824414202394352, 'share_sex': 1, 'share_region': 1, 'num_user_artists': 20, 'artist_popularity': 75}\n"
     ]
    }
   ],
   "source": [
    "print training_data[6]"
   ]
  },
  {
   "cell_type": "code",
   "execution_count": 5,
   "metadata": {
    "collapsed": true,
    "deletable": true,
    "editable": true
   },
   "outputs": [],
   "source": [
    "with open('artist_lookup', 'rb') as f:\n",
    "    artist_lookup = pkl.load(f)"
   ]
  },
  {
   "cell_type": "code",
   "execution_count": 7,
   "metadata": {
    "collapsed": false,
    "deletable": true,
    "editable": true
   },
   "outputs": [],
   "source": [
    "with open('user_lookup.pkl', 'rb') as f:\n",
    "    user_lookup = pkl.load(f)"
   ]
  },
  {
   "cell_type": "code",
   "execution_count": 27,
   "metadata": {
    "collapsed": false,
    "deletable": true,
    "editable": true
   },
   "outputs": [
    {
     "name": "stdout",
     "output_type": "stream",
     "text": [
      "{'region': 'Europe', 'average_popularity': 56.85, 'sex': 'f', 'favorite_genres': Counter({u'neo mellow': 7, u'rock': 7, u'classic rock': 5, u'alternative rock': 5, u'pop rock': 5, u'pop christmas': 4, u'permanent wave': 3, u'folk-pop': 3, u'pop': 3, u'singer-songwriter': 3, u'folk christmas': 3, u'post-teen pop': 3, u'dance pop': 3, u'mellow gold': 2, u'funk rock': 2, u'swedish indie pop': 2, u'indie rock': 2, u'hollywood': 2, u'album rock': 2, u'viral pop': 2, u'indie folk': 2, u'indie pop': 2, u'chamber pop': 2, u'indie christmas': 2, u'neo-psychedelic': 2, u'stomp and holler': 2, u'post-grunge': 2, u'psychedelic rock': 2, u'folk rock': 1, u'acoustic pop': 1, u'protopunk': 1, u'classic swedish pop': 1, u'merseybeat': 1, u'british invasion': 1, u'soul': 1, u'new wave': 1, u'europop': 1, u'broadway': 1, u'hard rock': 1, u'electronic': 1, u'funk metal': 1, u'swedish folk pop': 1, u'britpop': 1, u'motown': 1, u'deep swedish indie pop': 1, u'brill building pop': 1, u'glam rock': 1, u'movie tunes': 1, u'grunge': 1, u'garage rock': 1, u'melancholia': 1, u'swedish indie rock': 1, u'soft rock': 1, u'heavy christmas': 1, u'freak folk': 1, u'canadian pop': 1, u'dance rock': 1, u'reggae fusion': 1, u'alternative metal': 1, u'candy pop': 1, u'show tunes': 1, u'swedish pop': 1}), 'total_plays': 1723, 'age': 25.0, 'num_artists': 20}\n",
      "defaultdict(<type 'int'>, {'Europe': 0.5036269430051813, 'count': 965, 'genres': [u'cumbia', u'latin', u'latin pop', u'rock en espanol', u'tropical'], 'Oceania': 0.0051813471502590676, 'f': 376, 'prop_male': 0.5697940503432495, 'popularity': 75, 'Africa': 0.0010362694300518134, 'm': 498, 'Asia': 0.027979274611398965, 'North America': 0.2766839378238342, 'sum_of_ages': 19585.0, 'South America': 0.1844559585492228, 'Other': 0.0010362694300518134, 'followers': 482196, 'total_plays': 151982, 'age_count': 777, 'prop_female': 0.4302059496567506, 'average_age': 25.205920205920204, 'gender_count': 874})\n"
     ]
    }
   ],
   "source": [
    "print user_lookup['fa40b43298ba3f8aa52e8e8863faf2e2171e0b5d']\n",
    "print artist_lookup[artist_lookup.keys()[6]]"
   ]
  },
  {
   "cell_type": "code",
   "execution_count": 8,
   "metadata": {
    "collapsed": true,
    "deletable": true,
    "editable": true
   },
   "outputs": [],
   "source": [
    "train_data = {}\n",
    "with open('data/train.csv', 'r') as train_fh:\n",
    "    train_csv = csv.reader(train_fh, delimiter=',', quotechar='\"')\n",
    "    next(train_csv, None)\n",
    "    for row in train_csv:\n",
    "        user   = row[0]\n",
    "        artist = row[1]\n",
    "        plays  = row[2]\n",
    "    \n",
    "        if not user in train_data:\n",
    "            train_data[user] = {}\n",
    "        \n",
    "        train_data[user][artist] = int(plays)\n",
    "\n",
    "# Compute the global median and per-user median.\n",
    "plays_array  = []\n",
    "user_medians = {}\n",
    "for user, user_data in train_data.iteritems():\n",
    "    user_plays = []\n",
    "    for artist, plays in user_data.iteritems():\n",
    "        plays_array.append(plays)\n",
    "        user_plays.append(plays)\n",
    "\n",
    "    user_medians[user] = np.median(np.array(user_plays))\n",
    "global_median = np.median(np.array(plays_array))"
   ]
  },
  {
   "cell_type": "code",
   "execution_count": 43,
   "metadata": {
    "collapsed": true,
    "deletable": true,
    "editable": true
   },
   "outputs": [],
   "source": [
    "median_data = []\n",
    "with open('data/train.csv', 'r') as train_fh:\n",
    "    train_csv = csv.reader(train_fh, delimiter=',', quotechar='\"')\n",
    "    count = 0\n",
    "    next(train_csv, None)\n",
    "    for row in train_csv:\n",
    "        median_data.append({})\n",
    "        user   = row[0]\n",
    "        artist = row[1]\n",
    "        median_data[count]['user_id'] = user\n",
    "        median_data[count]['artist_id'] = artist\n",
    "        median_data[count]['user_median'] = user_medians[user]\n",
    "        median_data[count]['user_age'] = user_lookup[user]['age']\n",
    "        median_data[count]['region_share'] = artist_lookup[artist][user_lookup[user]['region']]\n",
    "        median_data[count]['total_plays'] = user_lookup[user]['total_plays']\n",
    "        median_data[count]['age_diff'] = abs(user_lookup[user]['age'] - artist_lookup[artist]['average_age'])\n",
    "        median_data[count]['populatiry'] = artist_lookup[artist]['popularity']\n",
    "        male = (user_lookup[user]['sex'] == 'm')\n",
    "        female = (user_lookup[user]['sex'] == 'f')\n",
    "        m_interaction = 0\n",
    "        f_interaction = 0\n",
    "        if male:\n",
    "            m_interaction = artist_lookup[artist]['prop_male']\n",
    "        if female:\n",
    "            f_interaction = artist_lookup[artist]['prop_female']\n",
    "        median_data[count]['m_interaction'] = m_interaction\n",
    "        median_data[count]['f_interaction'] = f_interaction\n",
    "        count += 1"
   ]
  },
  {
   "cell_type": "code",
   "execution_count": null,
   "metadata": {
    "collapsed": false,
    "deletable": true,
    "editable": true
   },
   "outputs": [
    {
     "name": "stdout",
     "output_type": "stream",
     "text": [
      "fitting\n"
     ]
    }
   ],
   "source": [
    "clf = RandomForestRegressor(n_estimators=40, n_jobs=-1)\n",
    "\n",
    "v = DictVectorizer()\n",
    "n_train = 20000\n",
    "td = maxabs_scale(v.fit_transform(median_data[:n_train]))\n",
    "ty = training_labels[:n_train]\n",
    "train(td, ty, clf)"
   ]
  },
  {
   "cell_type": "code",
   "execution_count": 47,
   "metadata": {
    "collapsed": false,
    "deletable": true,
    "editable": true
   },
   "outputs": [
    {
     "name": "stdout",
     "output_type": "stream",
     "text": [
      "RF MSE: 133.1980\n"
     ]
    }
   ],
   "source": [
    "valx = maxabs_scale(v.transform(median_data[-10000:]))\n",
    "valy = training_labels[-10000:]\n",
    "preds = clf.predict(valx)\n",
    "from sklearn.metrics import mean_absolute_error\n",
    "print(\"RF MSE: %.4f\" % mean_absolute_error(valy, preds))"
   ]
  },
  {
   "cell_type": "code",
   "execution_count": 49,
   "metadata": {
    "collapsed": true,
    "deletable": true,
    "editable": true
   },
   "outputs": [],
   "source": [
    "soln_data = []\n",
    "ids = []\n",
    "with open('data/test.csv', 'r') as train_fh:\n",
    "    train_csv = csv.reader(train_fh, delimiter=',', quotechar='\"')\n",
    "    count = 0\n",
    "    next(train_csv, None)\n",
    "    for row in train_csv:\n",
    "        soln_data.append({})\n",
    "        id = row[0]\n",
    "        user   = row[1]\n",
    "        artist = row[2]\n",
    "        ids.append(id)\n",
    "        soln_data[count]['user_id'] = user\n",
    "        soln_data[count]['artist_id'] = artist\n",
    "        soln_data[count]['user_median'] = user_medians[user]\n",
    "        soln_data[count]['user_age'] = user_lookup[user]['age']\n",
    "        soln_data[count]['region_share'] = artist_lookup[artist][user_lookup[user]['region']]\n",
    "        soln_data[count]['total_plays'] = user_lookup[user]['total_plays']\n",
    "        soln_data[count]['age_diff'] = abs(user_lookup[user]['age'] - artist_lookup[artist]['average_age'])\n",
    "        male = (user_lookup[user]['sex'] == 'm')\n",
    "        female = (user_lookup[user]['sex'] == 'f')\n",
    "        m_interaction = 0\n",
    "        f_interaction = 0\n",
    "        if male:\n",
    "            m_interaction = artist_lookup[artist]['prop_male']\n",
    "        if female:\n",
    "            f_interaction = artist_lookup[artist]['prop_female']\n",
    "        soln_data[count]['m_interaction'] = m_interaction\n",
    "        soln_data[count]['f_interaction'] = f_interaction\n",
    "        count += 1"
   ]
  },
  {
   "cell_type": "code",
   "execution_count": 50,
   "metadata": {
    "collapsed": true,
    "deletable": true,
    "editable": true
   },
   "outputs": [],
   "source": [
    "test_x = v.transform(soln_data)\n",
    "test_y = clf.predict(test_x)"
   ]
  },
  {
   "cell_type": "code",
   "execution_count": 54,
   "metadata": {
    "collapsed": false,
    "deletable": true,
    "editable": true
   },
   "outputs": [
    {
     "name": "stdout",
     "output_type": "stream",
     "text": [
      "4154804\n",
      "4154804\n"
     ]
    }
   ],
   "source": [
    "print len(ids)\n",
    "print len(test_y)"
   ]
  },
  {
   "cell_type": "code",
   "execution_count": 55,
   "metadata": {
    "collapsed": true,
    "deletable": true,
    "editable": true
   },
   "outputs": [],
   "source": [
    "with open('solution.csv', 'w') as soln_fh:\n",
    "    soln_csv = csv.writer(soln_fh,\n",
    "                          delimiter=',',\n",
    "                          quotechar='\"',\n",
    "                          quoting=csv.QUOTE_MINIMAL)\n",
    "    soln_csv.writerow(['Id', 'plays'])\n",
    "    for id,y in zip(ids,test_y):\n",
    "        soln_csv.writerow([id, y])"
   ]
  },
  {
   "cell_type": "code",
   "execution_count": null,
   "metadata": {
    "collapsed": true,
    "deletable": true,
    "editable": true
   },
   "outputs": [],
   "source": []
  }
 ],
 "metadata": {
  "kernelspec": {
   "display_name": "Python 2",
   "language": "python",
   "name": "python2"
  },
  "language_info": {
   "codemirror_mode": {
    "name": "ipython",
    "version": 2
   },
   "file_extension": ".py",
   "mimetype": "text/x-python",
   "name": "python",
   "nbconvert_exporter": "python",
   "pygments_lexer": "ipython2",
   "version": "2.7.10"
  }
 },
 "nbformat": 4,
 "nbformat_minor": 2
}
