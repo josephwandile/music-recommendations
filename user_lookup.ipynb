{
 "cells": [
  {
   "cell_type": "code",
   "execution_count": 12,
   "metadata": {
    "collapsed": true,
    "deletable": true,
    "editable": true
   },
   "outputs": [],
   "source": [
    "import numpy as np\n",
    "import csv\n",
    "from sklearn.cluster import KMeans\n",
    "import pandas as pd\n",
    "import pickle\n",
    "from sklearn import preprocessing\n",
    "from collections import Counter, defaultdict\n",
    "import time\n",
    "from incf.countryutils import transformations"
   ]
  },
  {
   "cell_type": "code",
   "execution_count": 2,
   "metadata": {
    "collapsed": true,
    "deletable": true,
    "editable": true
   },
   "outputs": [],
   "source": [
    "profiles_data = pd.read_csv('profiles.csv')\n",
    "train = pd.read_csv('train.csv')"
   ]
  },
  {
   "cell_type": "code",
   "execution_count": 8,
   "metadata": {
    "collapsed": false
   },
   "outputs": [],
   "source": [
    "artist_lookup = pickle.load(open('artist_lookup.pkl'))"
   ]
  },
  {
   "cell_type": "code",
   "execution_count": 6,
   "metadata": {
    "collapsed": true,
    "deletable": true,
    "editable": true
   },
   "outputs": [],
   "source": [
    "def get_region(country):\n",
    "    \n",
    "    # TODO Map with more granularity. Especially countries in Asia that are \n",
    "    # really middle eastern along with edge cases like South Africa\n",
    "\n",
    "    cn_to_ctn = {\n",
    "        'Antarctica': 'Other',\n",
    "        'Bouvet Island': 'Other',\n",
    "        'British Indian Ocean Territory': 'Other',\n",
    "        'Congo, the Democratic Republic of the': 'Africa',\n",
    "        \"Cote D'Ivoire\": 'Africa',\n",
    "        'Heard Island and Mcdonald Islands': 'Oceania',\n",
    "        'Iran, Islamic Republic of': 'Other',\n",
    "        \"Korea, Democratic People's Republic of\": 'Other',\n",
    "        'Korea, Republic of': 'Asia',\n",
    "        'Kyrgyzstan': 'Asia',\n",
    "        'Micronesia, Federated States of': 'Oceania',\n",
    "        'Palestinian Territory, Occupied': 'Asia',\n",
    "        'Pitcairn': 'Other',\n",
    "        'Slovakia': 'Europe',\n",
    "        'Svalbard and Jan Mayen': 'Europe',\n",
    "        'Tanzania, United Republic of': 'Africa',\n",
    "        'United Kingdom': 'Europe',\n",
    "        'United States': 'North America',\n",
    "        'Viet Nam': 'Asia',\n",
    "        'Virgin Islands, British': 'North America',\n",
    "        'Virgin Islands, U.s.': 'North America',\n",
    "    }\n",
    "    \n",
    "    return cn_to_ctn[country] if country in cn_to_ctn else transformations.cn_to_ctn(country)"
   ]
  },
  {
   "cell_type": "code",
   "execution_count": 19,
   "metadata": {
    "collapsed": true,
    "deletable": true,
    "editable": true
   },
   "outputs": [],
   "source": [
    "def extract_user_features(data, artist_lookup):\n",
    "    \n",
    "    start = time.clock()\n",
    "    \n",
    "    demographic_lookup = profiles_data.set_index(['age', 'sex', 'country']).groupby('user').groups\n",
    "    user_lookup = defaultdict(dict)\n",
    "    \n",
    "    playlists = data.set_index(['artist', 'plays']).groupby(['user']).groups\n",
    "    for user, playlist in playlists.iteritems():\n",
    "        \n",
    "        age, sex, cn = demographic_lookup[user][0]\n",
    "        num_artists = len(playlist)\n",
    "        region = get_region(cn)\n",
    "        if region == 'Antarctica':\n",
    "            region = 'Other'\n",
    "        \n",
    "        user_features = {\n",
    "            'sex': sex if sex == sex else 'u',\n",
    "            'age': age if age == age else 0,\n",
    "            'region': region,\n",
    "            'average_popularity': 0,\n",
    "            'num_artists': num_artists,\n",
    "            'total_plays': 0,\n",
    "        }\n",
    "        \n",
    "        favorite_genres = Counter()\n",
    "        total_plays = 0\n",
    "        total_popularity = 0\n",
    "        \n",
    "        for artist, plays in playlist:\n",
    "            total_plays += plays\n",
    "            genres = artist_lookup[artist]['genres']\n",
    "            for genre in genres:\n",
    "                favorite_genres[genre] += 1\n",
    "            \n",
    "            total_popularity += artist_lookup[artist]['popularity']\n",
    "            \n",
    "        user_features['average_popularity'] = total_popularity / float(num_artists)\n",
    "        user_features['total_plays'] = total_plays\n",
    "        user_features['favorite_genres'] = favorite_genres\n",
    "        \n",
    "        user_lookup[user] = user_features\n",
    "        \n",
    "    print(time.clock() - start)\n",
    "    return user_lookup"
   ]
  },
  {
   "cell_type": "code",
   "execution_count": 25,
   "metadata": {
    "collapsed": false,
    "deletable": true,
    "editable": true,
    "scrolled": true
   },
   "outputs": [
    {
     "name": "stdout",
     "output_type": "stream",
     "text": [
      "33.639834\n"
     ]
    }
   ],
   "source": [
    "user_lookup = extract_user_features(train, artist_lookup)"
   ]
  },
  {
   "cell_type": "code",
   "execution_count": 28,
   "metadata": {
    "collapsed": false
   },
   "outputs": [],
   "source": [
    "pickle.dump(user_lookup, open('user_lookup.pkl', 'w'))"
   ]
  }
 ],
 "metadata": {
  "kernelspec": {
   "display_name": "Python 2",
   "language": "python",
   "name": "python2"
  },
  "language_info": {
   "codemirror_mode": {
    "name": "ipython",
    "version": 2.0
   },
   "file_extension": ".py",
   "mimetype": "text/x-python",
   "name": "python",
   "nbconvert_exporter": "python",
   "pygments_lexer": "ipython2",
   "version": "2.7.10"
  }
 },
 "nbformat": 4,
 "nbformat_minor": 0
}