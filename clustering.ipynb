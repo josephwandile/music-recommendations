{
 "cells": [
  {
   "cell_type": "code",
   "execution_count": 40,
   "metadata": {
    "collapsed": false
   },
   "outputs": [
    {
     "name": "stdout",
     "output_type": "stream",
     "text": [
      "(233286, 357)\n",
      "(233286, 357)\n"
     ]
    }
   ],
   "source": [
    "import numpy as np\n",
    "import csv\n",
    "from sklearn.cluster import KMeans\n",
    "import pandas as pd\n",
    "import pickle\n",
    "from sklearn import preprocessing\n",
    "train_data = pd.read_csv('train.csv')\n",
    "\n",
    "#train = pd.read_csv('train.csv', iterator=True)\n",
    "# train_data = train.get_chunk(size=10)\n",
    "profiles_file = \"profiles.csv\"\n",
    "ids = []\n",
    "profiles_data = {}\n",
    "with open(profiles_file, 'r') as profiles_fh:\n",
    "    profiles_csv = csv.reader(profiles_fh, delimiter=',', quotechar='\"')\n",
    "    next(profiles_csv, None)\n",
    "    for row in profiles_csv:\n",
    "        user = row[0]\n",
    "        sex = row[1]\n",
    "        age  = row[2]\n",
    "        if age == '':\n",
    "            age = 0\n",
    "        country = row[3]\n",
    "        \n",
    "        if not user in profiles_data:\n",
    "            profiles_data[user] = {}\n",
    "            ids.append(user)\n",
    "        \n",
    "        profiles_data[user]['sex'] = sex\n",
    "        profiles_data[user]['age'] = int(age)\n",
    "        profiles_data[user]['country'] = country\n",
    "\n",
    "# go through every line in training data. match for the user\n",
    "# if artistplays column exists already for the given artist, add to that value\n",
    "# if not instantiate it\n",
    "        \n",
    "feature_columns = ['Male', 'Female', 'Num Artists', 'Num Plays']\n",
    "# feature_columns = ['Male', 'Female']\n",
    "for user in ids:\n",
    "    profiles_data[user]\n",
    "    if profiles_data[user]['age'] not in feature_columns:\n",
    "        feature_columns.append(profiles_data[user]['age'])\n",
    "    if profiles_data[user]['country'] not in feature_columns:\n",
    "        feature_columns.append(profiles_data[user]['country'])\n",
    "\n",
    "feature_matrix = np.zeros((len(ids), len(feature_columns)))\n",
    "user_num_dict = {}\n",
    "for n, user in enumerate(ids):\n",
    "    user_num_dict[user] = n\n",
    "    if profiles_data[user]['sex'] == 'm':\n",
    "        feature_matrix[n,0] = 1\n",
    "    elif profiles_data[user]['sex'] == 'f':\n",
    "        feature_matrix[n,1] = 1\n",
    "    feature_matrix[n, feature_columns.index(profiles_data[user]['country'])] = 1\n",
    "    feature_matrix[n, feature_columns.index(profiles_data[user]['age'])] = 1\n",
    "\n",
    "    num_artists = 0\n",
    "    num_plays = 0\n",
    "\n",
    "for _, row in train_data.iterrows():  \n",
    "    if row['user'] in user_num_dict:\n",
    "        feature_matrix[user_num_dict[row['user']], 2] += 1\n",
    "        feature_matrix[user_num_dict[row['user']], 3] += row['plays']\n",
    "\n",
    "# sums = feature_matrix.sum(axis=0)\n",
    "# artists_sum = sums[2]\n",
    "# plays_sum = sums[3]\n",
    "\n",
    "# # normalize\n",
    "# for row in feature_matrix:\n",
    "#     row[2] = row[2] / artists_sum\n",
    "#     row[3] = row[3] / plays_sum\n",
    "\n",
    "# train_file = 'train.csv'\n",
    "# test_file  = 'test.csv'\n",
    "# soln_file  = 'user_median.csv'\n",
    "print(feature_matrix.shape)\n",
    "\n",
    "normalized_features = preprocessing.normalize(feature_matrix, axis=0)\n",
    "print(normalized_features.shape)\n",
    "# np.savetxt('file_2.csv', normalized_features, delimiter=\",\")"
   ]
  },
  {
   "cell_type": "code",
   "execution_count": 42,
   "metadata": {
    "collapsed": false
   },
   "outputs": [
    {
     "name": "stdout",
     "output_type": "stream",
     "text": [
      "-314.121774025\n"
     ]
    }
   ],
   "source": [
    "\n",
    "#profiles = \"profiles.csv\"\n",
    "#data = pd.read_csv(profiles)\n",
    "num_clusters = 40\n",
    "km = KMeans(n_clusters = num_clusters, init='k-means++', max_iter=1000, n_init=5)\n",
    "\n",
    "preds = np.asarray(km.fit_predict(normalized_features))\n",
    "print km.score(normalized_features)\n",
    "new_preds = np.transpose(preds)\n",
    "new_preds2 = new_preds.reshape((new_preds.shape[0], 1))\n",
    "\n",
    "clustered_features = np.append(normalized_features, new_preds2, axis=1)\n",
    "pickle.dump( clustered_features, open( \"clustered_features.p\", \"wb\" ) )\n",
    "#np.savetxt('clustered_features.csv', final_features, delimiter=\",\")"
   ]
  },
  {
   "cell_type": "code",
   "execution_count": null,
   "metadata": {
    "collapsed": true
   },
   "outputs": [],
   "source": []
  }
 ],
 "metadata": {
  "kernelspec": {
   "display_name": "Python 2",
   "language": "python",
   "name": "python2"
  },
  "language_info": {
   "codemirror_mode": {
    "name": "ipython",
    "version": 2
   },
   "file_extension": ".py",
   "mimetype": "text/x-python",
   "name": "python",
   "nbconvert_exporter": "python",
   "pygments_lexer": "ipython2",
   "version": "2.7.13"
  }
 },
 "nbformat": 4,
 "nbformat_minor": 2
}
