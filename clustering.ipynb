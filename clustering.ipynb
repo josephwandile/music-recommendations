{
 "cells": [
  {
   "cell_type": "code",
   "execution_count": 27,
   "metadata": {
    "collapsed": false
   },
   "outputs": [
    {
     "name": "stdout",
     "output_type": "stream",
     "text": [
      "(233286, 355)\n",
      "[[ 0.  1.  1. ...,  0.  0.  0.]\n",
      " [ 1.  0.  0. ...,  0.  0.  0.]\n",
      " [ 1.  0.  0. ...,  0.  0.  0.]\n",
      " ..., \n",
      " [ 0.  0.  0. ...,  0.  0.  0.]\n",
      " [ 1.  0.  0. ...,  0.  0.  0.]\n",
      " [ 1.  0.  0. ...,  0.  0.  0.]]\n"
     ]
    }
   ],
   "source": [
    "import numpy as np\n",
    "import csv\n",
    "from sklearn.cluster import KMeans\n",
    "import pandas as pd\n",
    "\n",
    "profiles_file = \"profiles.csv\"\n",
    "ids = []\n",
    "profiles_data = {}\n",
    "with open(profiles_file, 'r') as profiles_fh:\n",
    "    profiles_csv = csv.reader(profiles_fh, delimiter=',', quotechar='\"')\n",
    "    next(profiles_csv, None)\n",
    "    for row in profiles_csv:\n",
    "        user   = row[0]\n",
    "        sex = row[1]\n",
    "        age  = row[2]\n",
    "        if age == '':\n",
    "            age = 0\n",
    "        country = row[3]\n",
    "\n",
    "        if not user in profiles_data:\n",
    "            profiles_data[user] = {}\n",
    "            ids.append(user)\n",
    "        \n",
    "        profiles_data[user]['sex'] = sex\n",
    "        profiles_data[user]['age'] = int(age)\n",
    "        profiles_data[user]['country'] = country\n",
    "\n",
    "feature_columns = ['Male', 'Female']\n",
    "for user in ids:\n",
    "    profiles_data[user]\n",
    "    if profiles_data[user]['age'] not in feature_columns:\n",
    "        feature_columns.append(profiles_data[user]['age'])\n",
    "    if profiles_data[user]['country'] not in feature_columns:\n",
    "        feature_columns.append(profiles_data[user]['country'])\n",
    "\n",
    "feature_matrix = np.zeros((len(ids), len(feature_columns)))\n",
    "for n, user in enumerate(ids):\n",
    "    if profiles_data[user]['sex'] == 'm':\n",
    "        feature_matrix[n,0] = 1\n",
    "    elif profiles_data[user]['sex'] == 'f':\n",
    "        feature_matrix[n,1] = 1\n",
    "    feature_matrix[n, feature_columns.index(profiles_data[user]['country'])] = 1\n",
    "    feature_matrix[n, feature_columns.index(profiles_data[user]['age'])] = 1\n",
    "    \n",
    "# train_file = 'train.csv'\n",
    "# test_file  = 'test.csv'\n",
    "# soln_file  = 'user_median.csv'\n",
    "print(feature_matrix.shape)\n",
    "print(feature_matrix)\n",
    "\n"
   ]
  },
  {
   "cell_type": "code",
   "execution_count": 28,
   "metadata": {
    "collapsed": false
   },
   "outputs": [
    {
     "name": "stdout",
     "output_type": "stream",
     "text": [
      "-261618.064062\n",
      "[21 24 25 ..., 27 10  6]\n"
     ]
    }
   ],
   "source": [
    "\n",
    "#profiles = \"profiles.csv\"\n",
    "#data = pd.read_csv(profiles)\n",
    "num_clusters = 30\n",
    "km = KMeans(n_clusters = num_clusters, init='k-means++', max_iter=1000, n_init=5)\n",
    "\n",
    "preds = km.fit_predict(feature_matrix)\n",
    "print km.score(feature_matrix)\n",
    "print(preds)\n",
    "#augmented_data = pd.concat([data, pd.DataFrame(preds, columns=['Cluster'])], axis=1)\n",
    "\n",
    "#augmented_data.to_csv('clustered_profiles.csv')"
   ]
  },
  {
   "cell_type": "code",
   "execution_count": null,
   "metadata": {
    "collapsed": true
   },
   "outputs": [],
   "source": []
  }
 ],
 "metadata": {
  "kernelspec": {
   "display_name": "Python 2",
   "language": "python",
   "name": "python2"
  },
  "language_info": {
   "codemirror_mode": {
    "name": "ipython",
    "version": 2
   },
   "file_extension": ".py",
   "mimetype": "text/x-python",
   "name": "python",
   "nbconvert_exporter": "python",
   "pygments_lexer": "ipython2",
   "version": "2.7.13"
  }
 },
 "nbformat": 4,
 "nbformat_minor": 2
}
