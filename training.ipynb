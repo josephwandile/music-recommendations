{
 "cells": [
  {
   "cell_type": "code",
   "execution_count": 3,
   "metadata": {
    "collapsed": false,
    "deletable": true,
    "editable": true
   },
   "outputs": [],
   "source": [
    "from sklearn.ensemble import RandomForestRegressor\n",
    "import pandas as pd\n",
    "from sklearn.feature_extraction import DictVectorizer\n",
    "import numpy as np\n",
    "import pickle\n",
    "import time"
   ]
  },
  {
   "cell_type": "code",
   "execution_count": 4,
   "metadata": {
    "collapsed": true,
    "deletable": true,
    "editable": true
   },
   "outputs": [],
   "source": [
    "artist_lookup = pickle.load(open('artist_lookup.pkl'))\n",
    "user_lookup = pickle.load(open('user_lookup.pkl'))"
   ]
  },
  {
   "cell_type": "code",
   "execution_count": 7,
   "metadata": {
    "collapsed": true
   },
   "outputs": [],
   "source": [
    "train = pd.read_csv('train.csv')"
   ]
  },
  {
   "cell_type": "markdown",
   "metadata": {
    "deletable": true,
    "editable": true
   },
   "source": [
    "### Features\n",
    "\n",
    "#### User\n",
    "* sex [m, f, u]\n",
    "* age [int]\n",
    "* region [one_hot]\n",
    "* total plays\n",
    "* size of playlist (num artists)\n",
    "* average popularity\n",
    "\n",
    "#### Artist\n",
    "* region of majority listeners\n",
    "* popularity (can also add num followers from spotify in addition)\n",
    "* average_age of listeners\n",
    "* prop_male listeners\n",
    "* num_listeners (count)\n",
    "* num_plays\n",
    "* POTENTIAL: clusters over genres\n",
    "\n",
    "#### Interaction\n",
    "* shares region with artist\n",
    "* is within 2 years of average listener age\n",
    "* genre overlap \n",
    "* popularity match (i.e. hipster listeners, artists)\n",
    "* gender match\n",
    "* POTENTIAL: appears on playlists with other songs user has listened to"
   ]
  },
  {
   "cell_type": "code",
   "execution_count": 169,
   "metadata": {
    "collapsed": false,
    "deletable": true,
    "editable": true
   },
   "outputs": [],
   "source": [
    "def feature_extraction(training_data, num_examples=None):\n",
    "    \n",
    "    start = time.clock()\n",
    "    if not num_examples:\n",
    "        num_examples = len(training_data)\n",
    "    \n",
    "    list_of_features = np.empty(num_examples, dtype=dict)\n",
    "\n",
    "    example_i = 0\n",
    "    for _, row in training_data[:num_examples].iterrows():\n",
    "        \n",
    "#         if not example_i % 100000:\n",
    "#             print('Iter: {}'.format(example_i))\n",
    "        \n",
    "        features = {}\n",
    "\n",
    "        # Just the user\n",
    "        user_features = user_lookup[row['user']]\n",
    "        \n",
    "        user_sex = user_features['sex']\n",
    "        features['user_sex_{}'.format(user_sex)] = 1\n",
    "        \n",
    "        user_region = user_features['region']\n",
    "        features['user_region_{}'.format(user_region)] = 1\n",
    "        \n",
    "        user_age = user_features['age']\n",
    "        if not user_age or user_age > 80 or user_age < 15:\n",
    "            user_age = 24.51  # Average of all the ages\n",
    "        features['user_age'] = user_age\n",
    "        \n",
    "        features['user_avg_play_count'] = user_features['total_plays'] / float(user_features['num_artists'])\n",
    "        features['user_num_artists'] = user_features['num_artists']\n",
    "        \n",
    "        user_popularity = user_features['average_popularity']\n",
    "        features['user_avg_popularity'] = user_popularity\n",
    "        \n",
    "        # Just the artist\n",
    "        artist_features = artist_lookup[row['artist']]\n",
    "        \n",
    "        artist_region = max([(r, artist_features[r]) for r in ['Africa', \n",
    "                                                        'Asia', \n",
    "                                                        'Europe', \n",
    "                                                        'North America', \n",
    "                                                        'Oceania', \n",
    "                                                        'Other', \n",
    "                                                        'South America']\n",
    "                     ], key=lambda x: x[1])[0]\n",
    "        \n",
    "        features['artist_region_{}'.format(artist_region)] = 1\n",
    "        \n",
    "        artist_popularity = artist_features['popularity']\n",
    "        features['artist_popularity'] = artist_popularity\n",
    "        \n",
    "        artist_age = artist_features['average_age']\n",
    "        features['artist_average_listener_age'] = artist_age\n",
    "        \n",
    "        prop_male = artist_features['prop_male']\n",
    "        features['artist_prop_male_listeners'] = prop_male\n",
    "        artist_num_listeners = artist_features['count']\n",
    "        features['artist_num_listeners'] = artist_num_listeners\n",
    "        features['artist_avg_num_plays'] = artist_features['total_plays'] / float(artist_num_listeners)\n",
    "        \n",
    "        # Modeling the interaction\n",
    "        if user_region == artist_region:\n",
    "            features['share_region'] = 1\n",
    "            \n",
    "        if abs(user_age - artist_age) < 2:\n",
    "            features['share_age'] = 1\n",
    "            \n",
    "        features['diff_age'] = 1.0 / (abs(user_age - artist_age) + 0.0000001)   \n",
    "            \n",
    "        fav_user_genres = set([genre for genre, _ in user_features['favorite_genres'].most_common(3)])\n",
    "        artist_genres = set(artist_features['genres'])\n",
    "        if len(fav_user_genres & artist_genres) > 0:\n",
    "            features['share_genre'] = 1\n",
    "            \n",
    "        if abs(user_popularity - artist_popularity) < 5:\n",
    "            features['share_popularity'] = 1\n",
    "            \n",
    "        features['diff_popularity'] = 1.0 / (abs(user_popularity - artist_popularity) + 0.0000001)   \n",
    "\n",
    "        if (prop_male > .5 and user_sex == 'm') or (prop_male <= .5 and user_sex == 'f'):\n",
    "            features['share_sex'] = 1\n",
    "            \n",
    "        list_of_features[example_i] = features\n",
    "        example_i += 1\n",
    "        \n",
    "    print(time.clock() - start)\n",
    "    return list_of_features"
   ]
  },
  {
   "cell_type": "code",
   "execution_count": 181,
   "metadata": {
    "collapsed": false,
    "scrolled": false
   },
   "outputs": [
    {
     "name": "stdout",
     "output_type": "stream",
     "text": [
      "3.790873\n"
     ]
    }
   ],
   "source": [
    "feature_list = feature_extraction(train[:20000])\n",
    "Y = np.array(train[:20000]['plays'])"
   ]
  },
  {
   "cell_type": "code",
   "execution_count": 182,
   "metadata": {
    "collapsed": false
   },
   "outputs": [
    {
     "data": {
      "text/plain": [
       "{'artist_average_listener_age': 24.6387987012987,\n",
       " 'artist_avg_num_plays': 152.11037234042553,\n",
       " 'artist_num_listeners': 1504,\n",
       " 'artist_popularity': 62,\n",
       " 'artist_prop_male_listeners': 0.6431686046511628,\n",
       " 'artist_region_Europe': 1,\n",
       " 'diff_age': 2.768538559361902,\n",
       " 'diff_popularity': 0.12790697510816657,\n",
       " 'share_age': 1,\n",
       " 'share_genre': 1,\n",
       " 'share_region': 1,\n",
       " 'share_sex': 1,\n",
       " 'user_age': 25.0,\n",
       " 'user_avg_play_count': 732.5,\n",
       " 'user_avg_popularity': 54.18181818181818,\n",
       " 'user_num_artists': 22,\n",
       " 'user_region_Europe': 1,\n",
       " 'user_sex_m': 1}"
      ]
     },
     "execution_count": 182,
     "metadata": {},
     "output_type": "execute_result"
    }
   ],
   "source": [
    "feature_list[0]"
   ]
  },
  {
   "cell_type": "code",
   "execution_count": 183,
   "metadata": {
    "collapsed": false
   },
   "outputs": [
    {
     "name": "stdout",
     "output_type": "stream",
     "text": [
      "0.415132\n"
     ]
    }
   ],
   "source": [
    "start = time.clock()\n",
    "v = DictVectorizer(sparse=True)\n",
    "X = v.fit_transform(feature_list)\n",
    "print(time.clock() - start)"
   ]
  },
  {
   "cell_type": "code",
   "execution_count": 184,
   "metadata": {
    "collapsed": true
   },
   "outputs": [],
   "source": [
    "from sklearn.model_selection import train_test_split\n",
    "from sklearn.feature_extraction import DictVectorizer\n",
    "import time\n",
    "from sklearn.metrics import mean_absolute_error\n",
    "from sklearn.linear_model import LinearRegression\n",
    "from sklearn.preprocessing import maxabs_scale\n",
    "from sklearn.linear_model import Ridge"
   ]
  },
  {
   "cell_type": "code",
   "execution_count": 185,
   "metadata": {
    "collapsed": true
   },
   "outputs": [],
   "source": [
    "X_train, X_test, y_train, y_test = train_test_split(X, Y, test_size=0.33)"
   ]
  },
  {
   "cell_type": "code",
   "execution_count": 186,
   "metadata": {
    "collapsed": false
   },
   "outputs": [],
   "source": [
    "# X_train = maxabs_scale(X_train)\n",
    "# X_test = maxabs_scale(X_test)"
   ]
  },
  {
   "cell_type": "code",
   "execution_count": 187,
   "metadata": {
    "collapsed": false
   },
   "outputs": [
    {
     "data": {
      "text/plain": [
       "158.4256659325861"
      ]
     },
     "execution_count": 187,
     "metadata": {},
     "output_type": "execute_result"
    }
   ],
   "source": [
    "clf = LinearRegression(normalize=True)\n",
    "clf.fit(X_train, y_train)\n",
    "y_hat = clf.predict(X_test)\n",
    "mean_absolute_error(y_test, y_hat)"
   ]
  }
 ],
 "metadata": {
  "kernelspec": {
   "display_name": "Python 2",
   "language": "python",
   "name": "python2"
  },
  "language_info": {
   "codemirror_mode": {
    "name": "ipython",
    "version": 2
   },
   "file_extension": ".py",
   "mimetype": "text/x-python",
   "name": "python",
   "nbconvert_exporter": "python",
   "pygments_lexer": "ipython2",
   "version": "2.7.10"
  }
 },
 "nbformat": 4,
 "nbformat_minor": 2
}
