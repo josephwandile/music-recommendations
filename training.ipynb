{
 "cells": [
  {
   "cell_type": "code",
   "execution_count": 39,
   "metadata": {
    "collapsed": false
   },
   "outputs": [],
   "source": [
    "from sklearn.ensemble import RandomForestRegressor\n",
    "import pandas as pd\n",
    "from sklearn.feature_extraction import DictVectorizer\n",
    "import numpy as np\n",
    "import pickle\n",
    "import time"
   ]
  },
  {
   "cell_type": "code",
   "execution_count": 4,
   "metadata": {
    "collapsed": true
   },
   "outputs": [],
   "source": [
    "train = pd.read_csv('train.csv')\n",
    "artist_lookup = pickle.load(open('artist_lookup.pkl'))\n",
    "user_lookup = pickle.load(open('user_lookup.pkl'))"
   ]
  },
  {
   "cell_type": "markdown",
   "metadata": {},
   "source": [
    "### Features\n",
    "\n",
    "#### User\n",
    "* sex [m, f, u]\n",
    "* age [int]\n",
    "* region [one_hot]\n",
    "* total plays\n",
    "* size of playlist (num artists)\n",
    "* average popularity\n",
    "\n",
    "#### Artist\n",
    "* region of majority listeners\n",
    "* popularity (can also add num followers from spotify in addition)\n",
    "* average_age of listeners\n",
    "* prop_male listeners\n",
    "* num_listeners (count)\n",
    "* num_plays\n",
    "* POTENTIAL: clusters over genres\n",
    "\n",
    "#### Interaction\n",
    "* shares region with artist\n",
    "* is within 2 years of average listener age\n",
    "* genre overlap \n",
    "* popularity match (i.e. hipster listeners, artists)\n",
    "* gender match\n",
    "* POTENTIAL: appears on playlists with other songs user has listened to"
   ]
  },
  {
   "cell_type": "code",
   "execution_count": 82,
   "metadata": {
    "collapsed": false
   },
   "outputs": [],
   "source": [
    "def feature_extraction(training_data, num_examples=None):\n",
    "    \n",
    "    start = time.clock()\n",
    "    if not num_examples:\n",
    "        num_examples = len(training_data)\n",
    "    \n",
    "    list_of_features = np.empty(num_examples, dtype=dict)\n",
    "\n",
    "    example_i = 0\n",
    "    for _, row in train[:num_examples].iterrows():\n",
    "        \n",
    "        if not example_i % 100000:\n",
    "            print('Iter: {}'.format(example_i))\n",
    "        \n",
    "        features = {}\n",
    "\n",
    "        # Just the user\n",
    "        user_features = user_lookup[row['user']]\n",
    "        \n",
    "        user_sex = user_features['sex']\n",
    "        features[user_sex] = 1\n",
    "        \n",
    "        user_region = user_features['region']\n",
    "        features['user_region_{}'.format(user_region)] = 1\n",
    "        \n",
    "        user_age = user_features['age']\n",
    "        if not user_age:\n",
    "            user_age = 24.51  # Average of all the ages\n",
    "        features['user_age'] = user_age\n",
    "        \n",
    "        features['user_play_count'] = user_features['total_plays']\n",
    "        features['num_user_artists'] = user_features['num_artists']\n",
    "        \n",
    "        user_popularity = user_features['average_popularity']\n",
    "        features['user_avg_popularity'] = user_popularity\n",
    "        \n",
    "        # Just the artist\n",
    "        artist_features = artist_lookup[row['artist']]\n",
    "        \n",
    "        artist_region = max([(r, artist_features[r]) for r in ['Africa', \n",
    "                                                        'Asia', \n",
    "                                                        'Europe', \n",
    "                                                        'North America', \n",
    "                                                        'Oceania', \n",
    "                                                        'Other', \n",
    "                                                        'South America']\n",
    "                     ], key=lambda x: x[1])[0]\n",
    "        \n",
    "        features['artist_region_{}'.format(artist_region)] = 1\n",
    "        \n",
    "        artist_popularity = artist_features['popularity']\n",
    "        features['artist_popularity'] = artist_popularity\n",
    "        \n",
    "        artist_age = artist_features['average_age']\n",
    "        features['average_listener_age'] = artist_age\n",
    "        \n",
    "        prop_male = artist_features['prop_male']\n",
    "        features['prop_male_listeners'] = prop_male\n",
    "        features['num_listeners'] = artist_features['count']\n",
    "        features['num_plays'] = artist_features['total_plays']\n",
    "        \n",
    "        # Modeling the interaction\n",
    "        if user_region == artist_region:\n",
    "            features['share_region'] = 1\n",
    "            \n",
    "        if abs(user_age - artist_age) < 2:\n",
    "            features['share_age'] = 1\n",
    "            \n",
    "        fav_user_genres = set([genre for genre, _ in user_features['favorite_genres'].most_common(5)])\n",
    "        artist_genres = set(artist_features['genres'])\n",
    "        if len(fav_user_genres & artist_genres) > 0:\n",
    "            features['share_genre'] = 1\n",
    "            \n",
    "        if abs(user_popularity - artist_popularity) < 10:\n",
    "            features['share_popularity'] = 1\n",
    "            \n",
    "        if (prop_male > .5 and user_sex == 'm') or (prop_male <= .5 and user_sex == 'f'):\n",
    "            features['share_sex'] = 1\n",
    "            \n",
    "        list_of_features[example_i] = features\n",
    "        example_i += 1\n",
    "        \n",
    "    print(time.clock() - start)\n",
    "    return list_of_features"
   ]
  },
  {
   "cell_type": "code",
   "execution_count": 83,
   "metadata": {
    "collapsed": false,
    "deletable": true,
    "editable": true
   },
   "outputs": [
    {
     "name": "stdout",
     "output_type": "stream",
     "text": [
      "Iter: 0\n",
      "Iter: 100000\n",
      "Iter: 200000\n",
      "Iter: 300000\n",
      "Iter: 400000\n",
      "Iter: 500000\n",
      "Iter: 600000\n",
      "Iter: 700000\n",
      "Iter: 800000\n",
      "Iter: 900000\n",
      "Iter: 1000000\n",
      "Iter: 1100000\n",
      "Iter: 1200000\n",
      "Iter: 1300000\n",
      "Iter: 1400000\n",
      "Iter: 1500000\n",
      "Iter: 1600000\n",
      "Iter: 1700000\n",
      "Iter: 1800000\n",
      "Iter: 1900000\n",
      "Iter: 2000000\n",
      "Iter: 2100000\n",
      "Iter: 2200000\n",
      "Iter: 2300000\n",
      "Iter: 2400000\n",
      "Iter: 2500000\n",
      "Iter: 2600000\n",
      "Iter: 2700000\n",
      "Iter: 2800000\n",
      "Iter: 2900000\n",
      "Iter: 3000000\n",
      "Iter: 3100000\n",
      "Iter: 3200000\n",
      "Iter: 3300000\n",
      "Iter: 3400000\n",
      "Iter: 3500000\n",
      "Iter: 3600000\n",
      "Iter: 3700000\n",
      "Iter: 3800000\n",
      "Iter: 3900000\n",
      "Iter: 4000000\n",
      "Iter: 4100000\n",
      "612.309793\n"
     ]
    }
   ],
   "source": [
    "feature_list = feature_extraction(train)"
   ]
  },
  {
   "cell_type": "code",
   "execution_count": 84,
   "metadata": {
    "collapsed": false
   },
   "outputs": [
    {
     "name": "stdout",
     "output_type": "stream",
     "text": [
      "261.735069\n"
     ]
    }
   ],
   "source": [
    "start = time.clock()\n",
    "pickle.dump(feature_list, open('X.pkl', 'w'))\n",
    "print(time.clock() - start)"
   ]
  },
  {
   "cell_type": "code",
   "execution_count": 85,
   "metadata": {
    "collapsed": true
   },
   "outputs": [],
   "source": [
    "pickle.dump(np.array(train['plays']), open('Y.pkl', 'w'))"
   ]
  },
  {
   "cell_type": "code",
   "execution_count": 71,
   "metadata": {
    "collapsed": false
   },
   "outputs": [
    {
     "name": "stdout",
     "output_type": "stream",
     "text": [
      "1.723496\n"
     ]
    }
   ],
   "source": [
    "start = time.clock()\n",
    "v = DictVectorizer(sparse=True)\n",
    "X = v.fit_transform(feature_list)\n",
    "print(time.clock() - start)"
   ]
  },
  {
   "cell_type": "code",
   "execution_count": null,
   "metadata": {
    "collapsed": false
   },
   "outputs": [],
   "source": [
    "start = time.clock()\n",
    "Y = np.array(train['plays'])\n",
    "clf = RandomForestRegressor(n_estimators=200)\n",
    "clf.fit(X, Y[:100000])\n",
    "print(time.clock() - start)"
   ]
  }
 ],
 "metadata": {
  "kernelspec": {
   "display_name": "Python 2",
   "language": "python",
   "name": "python2"
  },
  "language_info": {
   "codemirror_mode": {
    "name": "ipython",
    "version": 2
   },
   "file_extension": ".py",
   "mimetype": "text/x-python",
   "name": "python",
   "nbconvert_exporter": "python",
   "pygments_lexer": "ipython2",
   "version": "2.7.10"
  }
 },
 "nbformat": 4,
 "nbformat_minor": 2
}
