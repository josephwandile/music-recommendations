{
 "cells": [
  {
   "cell_type": "code",
   "execution_count": 1,
   "metadata": {
    "collapsed": false,
    "deletable": true,
    "editable": true
   },
   "outputs": [],
   "source": [
    "import requests as req\n",
    "import pandas as pd\n",
    "import xmltodict\n",
    "from incf.countryutils import transformations\n",
    "import numpy as np\n",
    "from collections import defaultdict\n",
    "import time\n",
    "import pickle"
   ]
  },
  {
   "cell_type": "code",
   "execution_count": 2,
   "metadata": {
    "collapsed": false,
    "deletable": true,
    "editable": true
   },
   "outputs": [],
   "source": [
    "artists_data = pd.read_csv('artists.csv')\n",
    "profiles_data = pd.read_csv('profiles.csv')\n",
    "train = pd.read_csv('train.csv')"
   ]
  },
  {
   "cell_type": "code",
   "execution_count": 3,
   "metadata": {
    "collapsed": true,
    "deletable": true,
    "editable": true
   },
   "outputs": [],
   "source": [
    "def get_region(country):\n",
    "    \n",
    "    # TODO Map with more granularity. Especially countries in Asia that are \n",
    "    # really middle eastern along with edge cases like South Africa\n",
    "\n",
    "    cn_to_ctn = {\n",
    "        'Antarctica': 'Other',\n",
    "        'Bouvet Island': 'Other',\n",
    "        'British Indian Ocean Territory': 'Other',\n",
    "        'Congo, the Democratic Republic of the': 'Africa',\n",
    "        \"Cote D'Ivoire\": 'Africa',\n",
    "        'Heard Island and Mcdonald Islands': 'Oceania',\n",
    "        'Iran, Islamic Republic of': 'Asia',\n",
    "        \"Korea, Democratic People's Republic of\": 'Other',\n",
    "        'Korea, Republic of': 'Asia',\n",
    "        'Kyrgyzstan': 'Asia',\n",
    "        'Micronesia, Federated States of': 'Oceania',\n",
    "        'Palestinian Territory, Occupied': 'Asia',\n",
    "        'Pitcairn': 'Other',\n",
    "        'Slovakia': 'Europe',\n",
    "        'Svalbard and Jan Mayen': 'Europe',\n",
    "        'Tanzania, United Republic of': 'Africa',\n",
    "        'United Kingdom': 'Europe',\n",
    "        'United States': 'North America',\n",
    "        'Viet Nam': 'Asia',\n",
    "        'Virgin Islands, British': 'North America',\n",
    "        'Virgin Islands, U.s.': 'North America',\n",
    "    }\n",
    "    \n",
    "    return cn_to_ctn[country] if country in cn_to_ctn else transformations.cn_to_ctn(country)"
   ]
  },
  {
   "cell_type": "code",
   "execution_count": 12,
   "metadata": {
    "collapsed": false,
    "deletable": true,
    "editable": true
   },
   "outputs": [],
   "source": [
    "def extract_artistic_features(data):\n",
    "    \n",
    "    start = time.clock()\n",
    "    \n",
    "    artistic_features = defaultdict(dict)\n",
    "    \n",
    "    users = profiles_data.set_index(['age', 'sex', 'country']).groupby('user').groups\n",
    "    fan_groups = data.set_index(['user', 'plays']).groupby(['artist']).groups\n",
    "    \n",
    "    for artist, fans in fan_groups.iteritems():\n",
    "        \n",
    "        artistic_features[artist] = defaultdict(int)        \n",
    "        for fan, plays in fans:\n",
    "            \n",
    "            age, sex, cn = users[fan][0]\n",
    "            \n",
    "            # Tally of number of listeners in each major region\n",
    "            region = get_region(cn)\n",
    "            if region == 'Antarctica':  # This is the weirdest bug in history\n",
    "                region = 'Other'\n",
    "            artistic_features[artist][region] += 1\n",
    "\n",
    "            # Listeners by gender\n",
    "            if sex == sex:  # Sex is defined\n",
    "                artistic_features[artist][sex] += 1\n",
    "                artistic_features[artist]['gender_count'] += 1\n",
    "\n",
    "            # To calculate average age of listeners \n",
    "            if age == age: \n",
    "                artistic_features[artist]['age_count'] += 1\n",
    "                artistic_features[artist]['sum_of_ages'] += age\n",
    "\n",
    "            # Total listeners\n",
    "            artistic_features[artist]['count'] += 1\n",
    "\n",
    "            # Total plays\n",
    "            artistic_features[artist]['total_plays'] += plays  \n",
    "            \n",
    "        artistic_features[artist]['average_age'] = artistic_features[artist]['sum_of_ages'] / float(artistic_features[artist]['age_count'])\n",
    "        artistic_features[artist]['prop_female'] = artistic_features[artist]['f'] / float(artistic_features[artist]['gender_count'])\n",
    "        artistic_features[artist]['prop_male'] = artistic_features[artist]['m'] / float(artistic_features[artist]['gender_count'])\n",
    "        \n",
    "        for r in ['Africa', 'Asia', 'Europe', 'North America', 'Oceania', 'Other', 'South America']:\n",
    "            artistic_features[artist][r] = artistic_features[artist][r] / float(artistic_features[artist]['count'])\n",
    "        \n",
    "    print(time.clock() - start)\n",
    "    return artistic_features"
   ]
  },
  {
   "cell_type": "code",
   "execution_count": 14,
   "metadata": {
    "collapsed": false
   },
   "outputs": [
    {
     "name": "stdout",
     "output_type": "stream",
     "text": [
      "21.27849\n"
     ]
    }
   ],
   "source": [
    "artistic_features = extract_artistic_features(train)"
   ]
  },
  {
   "cell_type": "code",
   "execution_count": 16,
   "metadata": {
    "collapsed": true,
    "deletable": true,
    "editable": true
   },
   "outputs": [],
   "source": [
    "pickle.dump(artistic_features, open('artistic_features.pkl', 'w'))"
   ]
  }
 ],
 "metadata": {
  "kernelspec": {
   "display_name": "Python 2",
   "language": "python",
   "name": "python2"
  },
  "language_info": {
   "codemirror_mode": {
    "name": "ipython",
    "version": 2
   },
   "file_extension": ".py",
   "mimetype": "text/x-python",
   "name": "python",
   "nbconvert_exporter": "python",
   "pygments_lexer": "ipython2",
   "version": "2.7.10"
  }
 },
 "nbformat": 4,
 "nbformat_minor": 2
}
