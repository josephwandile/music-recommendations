{
 "cells": [
  {
   "cell_type": "code",
   "execution_count": 37,
   "metadata": {
    "collapsed": true
   },
   "outputs": [],
   "source": [
    "import pandas as pd\n",
    "import numpy as np\n",
    "from collections import defaultdict\n",
    "import pickle\n",
    "from tarjan import tarjan as toposort\n",
    "from scipy.sparse.csgraph import connected_components"
   ]
  },
  {
   "cell_type": "code",
   "execution_count": 2,
   "metadata": {
    "collapsed": true
   },
   "outputs": [],
   "source": [
    "artists_data = pd.read_csv('artists.csv')\n",
    "profiles_data = pd.read_csv('profiles.csv')\n",
    "train = pd.read_csv('train.csv')"
   ]
  },
  {
   "cell_type": "code",
   "execution_count": 3,
   "metadata": {
    "collapsed": true
   },
   "outputs": [],
   "source": [
    "artist_hashes = np.array(artists_data['artist'])\n",
    "artist_hash_to_id = {}\n",
    "for i in range(2000):\n",
    "    artist_hash_to_id[artist_hashes[i]] = i\n",
    "\n",
    "user_hashes = np.array(profiles_data['user'])"
   ]
  },
  {
   "cell_type": "code",
   "execution_count": 4,
   "metadata": {
    "collapsed": true
   },
   "outputs": [],
   "source": [
    "def extract_playlist_graph(artist_hash_to_id, data):\n",
    "        \n",
    "    start = time.clock()\n",
    "    playlist_graph = np.zeros(shape=(2000, 2000))    \n",
    "        \n",
    "    playlists = data.set_index('artist').groupby('user').groups\n",
    "    \n",
    "    for playlist in playlists.values():\n",
    "        ids = sorted([artist_hash_to_id[artish_hash] for artish_hash in playlist])\n",
    "        for i in range(len(ids)):\n",
    "            for j in range(len(ids)):\n",
    "                playlist_graph[ids[i], ids[j]] += 1\n",
    "    \n",
    "    print(\"Time: {}\".format(time.clock() - start))\n",
    "    return playlist_graph"
   ]
  },
  {
   "cell_type": "code",
   "execution_count": 5,
   "metadata": {
    "collapsed": true
   },
   "outputs": [],
   "source": [
    "pg = pickle.load(open('playlist.pkl'))"
   ]
  },
  {
   "cell_type": "code",
   "execution_count": 63,
   "metadata": {
    "collapsed": false
   },
   "outputs": [],
   "source": [
    "def generate_adjacency_list(pg, threshold=0):\n",
    "    \n",
    "    mod_pg = (pg - threshold).clip(min=0)\n",
    "    \n",
    "    pgd = pd.DataFrame(mod_pg)\n",
    "    pg_dict = pgd.to_dict()\n",
    "    \n",
    "    adjacency_list = defaultdict(list)\n",
    "    for i in range(2000):\n",
    "        for j in range(2000):\n",
    "            if pg_dict[i][j] > 0.0:\n",
    "                adjacency_list[i].append(j)    \n",
    "                \n",
    "    return adjacency_list"
   ]
  },
  {
   "cell_type": "code",
   "execution_count": 91,
   "metadata": {
    "collapsed": true
   },
   "outputs": [],
   "source": [
    "al = generate_adjacency_list(pg)"
   ]
  }
 ],
 "metadata": {
  "kernelspec": {
   "display_name": "Python 2",
   "language": "python",
   "name": "python2"
  },
  "language_info": {
   "codemirror_mode": {
    "name": "ipython",
    "version": 2
   },
   "file_extension": ".py",
   "mimetype": "text/x-python",
   "name": "python",
   "nbconvert_exporter": "python",
   "pygments_lexer": "ipython2",
   "version": "2.7.10"
  }
 },
 "nbformat": 4,
 "nbformat_minor": 2
}
