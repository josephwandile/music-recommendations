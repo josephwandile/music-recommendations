{
 "cells": [
  {
   "cell_type": "code",
   "execution_count": 114,
   "metadata": {
    "collapsed": false,
    "deletable": true,
    "editable": true
   },
   "outputs": [],
   "source": [
    "from sklearn.ensemble import RandomForestRegressor\n",
    "import pandas as pd\n",
    "from sklearn.feature_extraction import DictVectorizer\n",
    "from sklearn.preprocessing import maxabs_scale, normalize\n",
    "import numpy as np\n",
    "import cPickle as pickle\n",
    "import time"
   ]
  },
  {
   "cell_type": "code",
   "execution_count": 115,
   "metadata": {
    "collapsed": true,
    "deletable": true,
    "editable": true
   },
   "outputs": [],
   "source": [
    "artist_lookup = pickle.load(open('artist_lookup.pkl'))"
   ]
  },
  {
   "cell_type": "code",
   "execution_count": 116,
   "metadata": {
    "collapsed": true,
    "deletable": true,
    "editable": true
   },
   "outputs": [],
   "source": [
    "user_lookup = pickle.load(open('user_lookup.pkl'))"
   ]
  },
  {
   "cell_type": "code",
   "execution_count": 117,
   "metadata": {
    "collapsed": true,
    "deletable": true,
    "editable": true
   },
   "outputs": [],
   "source": [
    "train = pd.read_csv('train.csv')"
   ]
  },
  {
   "cell_type": "code",
   "execution_count": 118,
   "metadata": {
    "collapsed": true
   },
   "outputs": [],
   "source": [
    "profiles_data = pd.read_csv('profiles.csv')\n",
    "user_id_lookup = profiles_data.groupby('user').groups\n",
    "def get_user_id(user_hash):\n",
    "    return user_id_lookup[user_hash][0]"
   ]
  },
  {
   "cell_type": "code",
   "execution_count": 119,
   "metadata": {
    "collapsed": false
   },
   "outputs": [],
   "source": [
    "artists_data = pd.read_csv('artists.csv')\n",
    "artist_id_lookup = artists_data.groupby('artist').groups\n",
    "def get_artist_id(artist_hash):\n",
    "    return artist_id_lookup[artist_hash][0]"
   ]
  },
  {
   "cell_type": "markdown",
   "metadata": {
    "deletable": true,
    "editable": true
   },
   "source": [
    "### Features\n",
    "\n",
    "#### User\n",
    "* sex [m, f, u]\n",
    "* age [int]\n",
    "* region [one_hot]\n",
    "* total plays\n",
    "* size of playlist (num artists)\n",
    "* average popularity\n",
    "\n",
    "#### Artist\n",
    "* region of majority listeners\n",
    "* popularity (can also add num followers from spotify in addition)\n",
    "* average_age of listeners\n",
    "* prop_male listeners\n",
    "* num_listeners (count)\n",
    "* num_plays\n",
    "* POTENTIAL: clusters over genres\n",
    "\n",
    "#### Interaction\n",
    "* shares region with artist\n",
    "* is within 2 years of average listener age\n",
    "* genre overlap \n",
    "* popularity match (i.e. hipster listeners, artists)\n",
    "* gender match\n",
    "* TODO: Number of times previously listened to artist \n",
    "* POTENTIAL: appears on playlists with other songs user has listened to"
   ]
  },
  {
   "cell_type": "code",
   "execution_count": 127,
   "metadata": {
    "collapsed": false,
    "deletable": true,
    "editable": true
   },
   "outputs": [],
   "source": [
    "def feature_extraction(training_data, num_examples=None):\n",
    "        \n",
    "    start = time.clock()\n",
    "    if not num_examples:\n",
    "        num_examples = len(training_data)\n",
    "    \n",
    "    list_of_features = np.empty(num_examples, dtype=dict)\n",
    "\n",
    "    example_i = 0\n",
    "    for _, row in training_data[:num_examples].iterrows():\n",
    "        \n",
    "        features = {}\n",
    "\n",
    "        # ************************************************\n",
    "        # Features for the user, independent of the artist\n",
    "        user_features = user_lookup[row['user']]\n",
    "        \n",
    "        features['user_id_{}'.format(get_user_id(row['user']))] = 1\n",
    "        \n",
    "        features['user_sex_{}'.format(user_features['sex'])] = 1\n",
    "\n",
    "        # Seems unlikely to improve model if included raw\n",
    "        user_cn = user_features['cn']\n",
    "        user_region = user_features['region']\n",
    "        \n",
    "        user_age = user_features['age']\n",
    "        features['user_age'] = user_age\n",
    "        \n",
    "        features['user_avg_plays'] = user_features['average_plays']\n",
    "        features['user_num_artists'] = user_features['num_artists']\n",
    "        \n",
    "        user_popularity = user_features['average_popularity']\n",
    "        features['user_avg_popularity'] = user_popularity\n",
    "        \n",
    "        features['user_avg_sub_global_avg'] = user_features['user_avg_sub_global_avg']\n",
    "        \n",
    "        # ****************************************\n",
    "        # Just the artist, independent of the user\n",
    "        artist_features = artist_lookup[row['artist']]\n",
    "        \n",
    "        features['artist_id_{}'.format(get_artist_id(row['artist']))] = 1\n",
    "        \n",
    "        artist_popularity = artist_features['popularity']\n",
    "        features['artist_spotify_popularity'] = artist_popularity\n",
    "        \n",
    "        features['artist_avg_sub_global_avg'] = artist_features['artist_avg_sub_global_avg']\n",
    "        \n",
    "        artist_age = artist_features['average_age']\n",
    "        features['artist_average_listener_age'] = artist_age\n",
    "        \n",
    "        prop_male, prop_female, prop_unknown = artist_features['m'], artist_features['f'], artist_features['u']\n",
    "\n",
    "        artist_num_listeners = artist_features['total_listeners']\n",
    "        features['artist_num_listeners'] = artist_num_listeners\n",
    "        \n",
    "        features['artist_avg_plays'] = artist_features['avg_plays'] \n",
    "        \n",
    "        features['genre_{}'.format(artist_features['genre_id'])] = 1\n",
    "        \n",
    "        \n",
    "        # **********************************************\n",
    "        # Features dependent on both the artist and user\n",
    "        features['share_cn'] = 1 if user_cn in [cn for cn, _ in artist_features['fan_cns'].most_common(5)] else 0\n",
    "        features['share_prob_user_from_region'] = artist_features['fan_cns'][user_cn] / np.sum(artist_features['fan_cns'].values())\n",
    "        features['share_prob_user_from_country'] = artist_features['fan_regions'][user_region] / np.sum(artist_features['fan_regions'].values())\n",
    "        \n",
    "        # TODO: Get percentage of fans in same region, and percentage in same country.\n",
    "            \n",
    "        if abs(user_age - artist_age) < 2:\n",
    "            features['share_age'] = 1\n",
    "            \n",
    "        features['diff_age'] = abs(user_age - artist_age)  \n",
    "            \n",
    "        fav_user_genres = set([genre for genre, _ in user_features['favorite_genres'].most_common(4)])\n",
    "        artist_genres = set(artist_features['genres'])\n",
    "        shared_genres = fav_user_genres & artist_genres\n",
    "#         g_count = 0\n",
    "#         for g in shared_genres:  \n",
    "#             g_count += user_features['favorite_genres'][g]\n",
    "#         features['share_genre'] = g_count\n",
    "        features['share_genre'] = 1 if len(shared_genres) > 0 else 0\n",
    "        \n",
    "        if abs(user_popularity - artist_popularity) < 5:\n",
    "            features['share_popularity'] = 1\n",
    "            \n",
    "        features['diff_popularity'] = abs(user_popularity - artist_popularity)   \n",
    "\n",
    "        features['share_prob_user_listens_by_gender_{}'.format(user_features['sex'])] = artist_features[user_features['sex']]\n",
    "            \n",
    "        list_of_features[example_i] = features\n",
    "        example_i += 1\n",
    "        \n",
    "    print(time.clock() - start)\n",
    "    return list_of_features"
   ]
  },
  {
   "cell_type": "code",
   "execution_count": 132,
   "metadata": {
    "collapsed": false,
    "deletable": true,
    "editable": true,
    "scrolled": false
   },
   "outputs": [
    {
     "name": "stdout",
     "output_type": "stream",
     "text": [
      "28.276508\n"
     ]
    }
   ],
   "source": [
    "feature_list = feature_extraction(train[:100000])\n",
    "Y = np.array(train[:100000]['plays'])"
   ]
  },
  {
   "cell_type": "code",
   "execution_count": 133,
   "metadata": {
    "collapsed": false,
    "deletable": true,
    "editable": true
   },
   "outputs": [],
   "source": [
    "v = DictVectorizer()\n",
    "X = v.fit(feature_list)"
   ]
  },
  {
   "cell_type": "code",
   "execution_count": 134,
   "metadata": {
    "collapsed": false,
    "deletable": true,
    "editable": true
   },
   "outputs": [],
   "source": [
    "available_features = v.get_feature_names()\n",
    "support = [1 for _ in range(len(available_features))]\n",
    "# available_features"
   ]
  },
  {
   "cell_type": "code",
   "execution_count": 49,
   "metadata": {
    "collapsed": true
   },
   "outputs": [],
   "source": [
    "desired_features = {\n",
    "    \n",
    "#     'artist_average_listener_age',\n",
    "#     'artist_avg_plays',\n",
    "#     'artist_avg_sub_global_avg',\n",
    "#     'artist_num_listeners',\n",
    "#     'artist_spotify_popularity',\n",
    "#     'diff_age',\n",
    "#     'diff_popularity',\n",
    "#     'genre_0',\n",
    "#     'genre_1',\n",
    "#     'genre_10',\n",
    "#     'genre_11',\n",
    "#     'genre_12',\n",
    "#     'genre_13',\n",
    "#     'genre_14',\n",
    "#     'genre_15',\n",
    "#     'genre_16',\n",
    "#     'genre_17',\n",
    "#     'genre_18',\n",
    "#     'genre_19',\n",
    "#     'genre_2',\n",
    "#     'genre_3',\n",
    "#     'genre_4',\n",
    "#     'genre_5',\n",
    "#     'genre_6',\n",
    "#     'genre_7',\n",
    "#     'genre_8',\n",
    "#     'genre_9',\n",
    "#     'share_age',\n",
    "#     'share_cn',\n",
    "#     'share_genre',\n",
    "#     'share_popularity',\n",
    "#     'share_prob_user_listens_by_gender',\n",
    "#     'user_age',\n",
    "#     'user_avg_plays',\n",
    "#     'user_avg_popularity',\n",
    "#     'user_avg_sub_global_avg',\n",
    "#     'user_num_artists',\n",
    "#     'user_sex_f',\n",
    "#     'user_sex_m',\n",
    "#     'user_sex_u',\n",
    "    \n",
    "    'artist_avg_sub_global_avg',\n",
    "    'artist_avg_plays',\n",
    "    'artist_average_listener_age',\n",
    "    'genre_0',\n",
    "    'genre_1',\n",
    "    'genre_10',\n",
    "    'genre_11',\n",
    "    'genre_12',\n",
    "    'genre_13',\n",
    "    'genre_14',\n",
    "    'genre_15',\n",
    "    'genre_16',\n",
    "    'genre_17',\n",
    "    'genre_18',\n",
    "    'genre_19',\n",
    "    'genre_2',\n",
    "    'genre_3',\n",
    "    'genre_4',\n",
    "    'genre_5',\n",
    "    'genre_6',\n",
    "    'genre_7',\n",
    "    'genre_8',\n",
    "    'genre_9',\n",
    "    'share_cn',\n",
    "    'share_age',\n",
    "    'share_genre',\n",
    "    'share_popularity',\n",
    "    'share_prob_user_listens_by_gender',\n",
    "    'user_avg_plays',\n",
    "}\n",
    "support = [0 for _ in range(len(available_features))]\n",
    "for i, feature in enumerate(available_features):\n",
    "    if feature in desired_features:\n",
    "        support[i] = 1"
   ]
  },
  {
   "cell_type": "code",
   "execution_count": 135,
   "metadata": {
    "collapsed": false,
    "deletable": true,
    "editable": true
   },
   "outputs": [],
   "source": [
    "v.restrict(support)\n",
    "X_restricted = v.transform(feature_list)"
   ]
  },
  {
   "cell_type": "code",
   "execution_count": 136,
   "metadata": {
    "collapsed": false
   },
   "outputs": [
    {
     "data": {
      "text/plain": [
       "(100000, 83220)"
      ]
     },
     "execution_count": 136,
     "metadata": {},
     "output_type": "execute_result"
    }
   ],
   "source": [
    "X_restricted.shape"
   ]
  },
  {
   "cell_type": "code",
   "execution_count": 137,
   "metadata": {
    "collapsed": false,
    "deletable": true,
    "editable": true
   },
   "outputs": [],
   "source": [
    "from sklearn.model_selection import train_test_split\n",
    "from sklearn.metrics import mean_absolute_error\n",
    "\n",
    "# Linear SVR, RandomForest seem promising."
   ]
  },
  {
   "cell_type": "code",
   "execution_count": 111,
   "metadata": {
    "collapsed": true,
    "deletable": true,
    "editable": true
   },
   "outputs": [],
   "source": [
    "def KNN(X, Y, samples):\n",
    "    \n",
    "    # For D < 20 use KDTree\n",
    "    \n",
    "    start = time.clock()\n",
    "    \n",
    "    X_train, X_test, y_train, y_test = train_test_split(X[:samples], Y[:samples], test_size=0.33)\n",
    "    \n",
    "    X_train = maxabs_scale(X_train)\n",
    "    X_test = maxabs_scale(X_test)\n",
    "    \n",
    "    clf = KNeighborsRegressor(n_neighbors=3, n_jobs=-1, algorithm='ball_tree', leaf_size=30)  # 'ball_tree' for higher D\n",
    "    clf.fit(X_train, y_train)\n",
    "    y_hat = clf.predict(X_test)\n",
    "    mae = mean_absolute_error(y_test, y_hat)\n",
    "    print(mae)\n",
    "    \n",
    "    print(time.clock() - start)"
   ]
  },
  {
   "cell_type": "code",
   "execution_count": 113,
   "metadata": {
    "collapsed": false
   },
   "outputs": [
    {
     "name": "stdout",
     "output_type": "stream",
     "text": [
      "240.556969697\n",
      "1.956768\n"
     ]
    }
   ],
   "source": [
    "KNN(X_restricted, Y, 10000)"
   ]
  },
  {
   "cell_type": "code",
   "execution_count": 138,
   "metadata": {
    "collapsed": true
   },
   "outputs": [],
   "source": [
    "def RF(X, Y, samples):\n",
    "    \n",
    "    start = time.clock()\n",
    "    \n",
    "    X_train, X_test, y_train, y_test = train_test_split(X[:samples], Y[:samples], test_size=0.33)\n",
    "    \n",
    "    X_train = maxabs_scale(X_train)\n",
    "    X_test = maxabs_scale(X_test)\n",
    "    \n",
    "    clf = RandomForestRegressor(n_estimators=100, n_jobs=-1)\n",
    "    clf.fit(X_train, y_train)\n",
    "    y_hat = clf.predict(X_test)\n",
    "    mae = mean_absolute_error(y_test, y_hat)\n",
    "    print(mae)\n",
    "    \n",
    "    print(time.clock() - start)"
   ]
  },
  {
   "cell_type": "code",
   "execution_count": 140,
   "metadata": {
    "collapsed": false
   },
   "outputs": [
    {
     "name": "stdout",
     "output_type": "stream",
     "text": [
      "125.221321212\n",
      "1115.305561\n"
     ]
    }
   ],
   "source": [
    "RF(X_restricted, Y, 10000)"
   ]
  },
  {
   "cell_type": "code",
   "execution_count": 101,
   "metadata": {
    "collapsed": true
   },
   "outputs": [],
   "source": [
    "def LR(X, Y, samples):\n",
    "    \n",
    "    start = time.clock()\n",
    "    \n",
    "    X_train, X_test, y_train, y_test = train_test_split(X[:samples], Y[:samples], test_size=0.33)\n",
    "    \n",
    "    X_train = maxabs_scale(X_train)\n",
    "    X_test = maxabs_scale(X_test)\n",
    "    \n",
    "    clf = LinearRegression(n_jobs=-1)\n",
    "    clf.fit(X_train, y_train)\n",
    "    y_hat = clf.predict(X_test)\n",
    "    mae = mean_absolute_error(y_test, y_hat)\n",
    "    print(mae)\n",
    "    \n",
    "    print(time.clock() - start)"
   ]
  },
  {
   "cell_type": "code",
   "execution_count": 110,
   "metadata": {
    "collapsed": false
   },
   "outputs": [
    {
     "name": "stdout",
     "output_type": "stream",
     "text": [
      "293.292537955\n",
      "1.77469\n"
     ]
    }
   ],
   "source": [
    "LR(X_restricted, Y, 400000)"
   ]
  },
  {
   "cell_type": "code",
   "execution_count": null,
   "metadata": {
    "collapsed": true
   },
   "outputs": [],
   "source": []
  }
 ],
 "metadata": {
  "kernelspec": {
   "display_name": "Python 2",
   "language": "python",
   "name": "python2"
  },
  "language_info": {
   "codemirror_mode": {
    "name": "ipython",
    "version": 2
   },
   "file_extension": ".py",
   "mimetype": "text/x-python",
   "name": "python",
   "nbconvert_exporter": "python",
   "pygments_lexer": "ipython2",
   "version": "2.7.10"
  }
 },
 "nbformat": 4,
 "nbformat_minor": 2
}
