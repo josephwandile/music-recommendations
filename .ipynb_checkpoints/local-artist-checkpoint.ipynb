{
 "cells": [
  {
   "cell_type": "code",
   "execution_count": 14,
   "metadata": {
    "collapsed": false,
    "deletable": true,
    "editable": true
   },
   "outputs": [],
   "source": [
    "import requests as req\n",
    "import pandas as pd\n",
    "import xmltodict\n",
    "from incf.countryutils import transformations\n",
    "import numpy as np\n",
    "from collections import defaultdict"
   ]
  },
  {
   "cell_type": "code",
   "execution_count": 2,
   "metadata": {
    "collapsed": true,
    "deletable": true,
    "editable": true
   },
   "outputs": [],
   "source": [
    "resp = req.get('https://musicbrainz.org/ws/2/artist/cc197bad-dc9c-440d-a5b5-d52ba2e14234?inc=tags%20ratings')"
   ]
  },
  {
   "cell_type": "code",
   "execution_count": 3,
   "metadata": {
    "collapsed": true,
    "deletable": true,
    "editable": true
   },
   "outputs": [],
   "source": [
    "artist = xmltodict.parse(resp.text)['metadata']['artist']"
   ]
  },
  {
   "cell_type": "code",
   "execution_count": 4,
   "metadata": {
    "collapsed": false,
    "deletable": true,
    "editable": true
   },
   "outputs": [
    {
     "data": {
      "text/plain": [
       "OrderedDict([(u'@id', u'cc197bad-dc9c-440d-a5b5-d52ba2e14234'),\n",
       "             (u'@type-id', u'e431f5f6-b5d2-343d-8b36-72607fffb74b'),\n",
       "             (u'@type', u'Group'),\n",
       "             (u'name', u'Coldplay'),\n",
       "             (u'sort-name', u'Coldplay'),\n",
       "             (u'isni-list', OrderedDict([(u'isni', u'000000011551394X')])),\n",
       "             (u'country', u'GB'),\n",
       "             (u'area',\n",
       "              OrderedDict([(u'@id', u'8a754a16-0027-3a29-b6d7-2b40ea0481ed'),\n",
       "                           (u'name', u'United Kingdom'),\n",
       "                           (u'sort-name', u'United Kingdom'),\n",
       "                           (u'iso-3166-1-code-list',\n",
       "                            OrderedDict([(u'iso-3166-1-code', u'GB')]))])),\n",
       "             (u'begin-area',\n",
       "              OrderedDict([(u'@id', u'f03d09b3-39dc-4083-afd6-159e3f0d462f'),\n",
       "                           (u'name', u'London'),\n",
       "                           (u'sort-name', u'London')])),\n",
       "             (u'life-span', OrderedDict([(u'begin', u'1996-09')])),\n",
       "             (u'tag-list',\n",
       "              OrderedDict([(u'tag',\n",
       "                            [OrderedDict([(u'@count', u'7'),\n",
       "                                          (u'name', u'alternative rock')]),\n",
       "                             OrderedDict([(u'@count', u'1'),\n",
       "                                          (u'name', u'ambient pop')]),\n",
       "                             OrderedDict([(u'@count', u'0'),\n",
       "                                          (u'name', u'britannique')]),\n",
       "                             OrderedDict([(u'@count', u'5'),\n",
       "                                          (u'name', u'british')]),\n",
       "                             OrderedDict([(u'@count', u'0'),\n",
       "                                          (u'name', u'britpop')]),\n",
       "                             OrderedDict([(u'@count', u'0'),\n",
       "                                          (u'name', u'chapel')]),\n",
       "                             OrderedDict([(u'@count', u'0'),\n",
       "                                          (u'name', u'english')]),\n",
       "                             OrderedDict([(u'@count', u'0'),\n",
       "                                          (u'name', u'parlophone')]),\n",
       "                             OrderedDict([(u'@count', u'1'),\n",
       "                                          (u'name', u'piano pop')]),\n",
       "                             OrderedDict([(u'@count', u'3'),\n",
       "                                          (u'name', u'piano rock')]),\n",
       "                             OrderedDict([(u'@count', u'3'),\n",
       "                                          (u'name', u'pop')]),\n",
       "                             OrderedDict([(u'@count', u'2'),\n",
       "                                          (u'name', u'pop rock')]),\n",
       "                             OrderedDict([(u'@count', u'0'),\n",
       "                                          (u'name', u'pop/rock')]),\n",
       "                             OrderedDict([(u'@count', u'1'),\n",
       "                                          (u'name', u'post-britpop')]),\n",
       "                             OrderedDict([(u'@count', u'4'),\n",
       "                                          (u'name', u'rock')]),\n",
       "                             OrderedDict([(u'@count', u'0'),\n",
       "                                          (u'name', u'rock and indie')]),\n",
       "                             OrderedDict([(u'@count', u'2'),\n",
       "                                          (u'name', u'uk')])])])),\n",
       "             (u'rating',\n",
       "              OrderedDict([(u'@votes-count', u'24'), ('#text', u'4.35')]))])"
      ]
     },
     "execution_count": 4,
     "metadata": {},
     "output_type": "execute_result"
    }
   ],
   "source": [
    "artist"
   ]
  },
  {
   "cell_type": "markdown",
   "metadata": {},
   "source": [
    "### Features for Artists\n",
    "- Number of users who've listened to them\n",
    "- Total plays\n",
    "- Plays per listener\n",
    "- Average age of listeners\n",
    "- Other artists shared on playlists \n",
    "- Counts of users per country or region\n",
    "- Genre (MB)\n",
    "- Last year active (MB)\n",
    "- Country (MB)\n",
    "- Type (MB)\n",
    "- Rating (MB)"
   ]
  },
  {
   "cell_type": "code",
   "execution_count": 5,
   "metadata": {
    "collapsed": false
   },
   "outputs": [],
   "source": [
    "artists_data = pd.read_csv('artists.csv')\n",
    "profiles_data = pd.read_csv('profiles.csv')\n",
    "train = pd.read_csv('train.csv', iterator=True)"
   ]
  },
  {
   "cell_type": "code",
   "execution_count": 15,
   "metadata": {
    "collapsed": true
   },
   "outputs": [],
   "source": [
    "def get_region(country):\n",
    "    \n",
    "    # TODO Map with more granularity. Especially countries in Asia that are \n",
    "    # really middle eastern along with edge cases like South Africa\n",
    "\n",
    "    cn_to_ctn = {\n",
    "        'Antarctica': 'Other',\n",
    "        'Bouvet Island': 'Other',\n",
    "        'British Indian Ocean Territory': 'Other',\n",
    "        'Congo, the Democratic Republic of the': 'Africa',\n",
    "        \"Cote D'Ivoire\": 'Africa',\n",
    "        'Heard Island and Mcdonald Islands': 'Oceania',\n",
    "        'Iran, Islamic Republic of': 'Iran',\n",
    "        \"Korea, Democratic People's Republic of\": 'North Korea',\n",
    "        'Korea, Republic of': 'Asia',\n",
    "        'Kyrgyzstan': 'Asia',\n",
    "        'Micronesia, Federated States of': 'Oceania',\n",
    "        'Palestinian Territory, Occupied': 'Asia',\n",
    "        'Pitcairn': 'Other',\n",
    "        'Slovakia': 'Europe',\n",
    "        'Svalbard and Jan Mayen': 'Europe',\n",
    "        'Tanzania, United Republic of': 'Africa',\n",
    "        'United Kingdom': 'Europe',\n",
    "        'United States': 'North America',\n",
    "        'Viet Nam': 'Asia',\n",
    "        'Virgin Islands, British': 'North America',\n",
    "        'Virgin Islands, U.s.': 'North America',\n",
    "    }\n",
    "    \n",
    "    return cn_to_ctn[country] if country in cn_to_ctn else transformations.cn_to_ctn(country)"
   ]
  },
  {
   "cell_type": "code",
   "execution_count": 17,
   "metadata": {
    "collapsed": false
   },
   "outputs": [],
   "source": [
    "def extract_artistic_features(data):\n",
    "    \n",
    "    artistic_features = defaultdict(dict)\n",
    "    \n",
    "    for _, row in data.iterrows():\n",
    "        user = row['user']\n",
    "        artist = row['artist']\n",
    "        plays = row['plays']\n",
    "\n",
    "        if artist not in artistic_features:\n",
    "            initial_features = {\n",
    "                'count': 0,\n",
    "                'age_count': 0,\n",
    "                'gender_count': 0,\n",
    "                'country_count': 0,\n",
    "                'total_plays': 0,\n",
    "                'sum_of_ages': 0,\n",
    "                'm': 0,\n",
    "                'f': 0,\n",
    "            }\n",
    "            artistic_features[artist] = initial_features\n",
    "\n",
    "        # Get demographic data on the user\n",
    "        _, sex, age, cn = np.array(profiles_data[profiles_data['user'] == user])[0]\n",
    "\n",
    "        # Tally of number of listeners in each major region\n",
    "        region = get_region(cn)\n",
    "        if region in artistic_features[artist]:\n",
    "            artistic_features[artist][region] += 1\n",
    "        else:\n",
    "            artistic_features[artist][region] = 1\n",
    "\n",
    "        # Listeners by gender\n",
    "        if sex == sex:  # Sex is defined\n",
    "            artistic_features[artist][sex] += 1\n",
    "            artistic_features[artist]['gender_count'] += 1\n",
    "\n",
    "        # To calculate average age of listeners \n",
    "        if age == age: \n",
    "            artistic_features[artist]['age_count'] += 1\n",
    "            artistic_features[artist]['sum_of_ages'] += age\n",
    "\n",
    "        # Total listeners\n",
    "        artistic_features[artist]['count'] += 1\n",
    "\n",
    "        # Total plays\n",
    "        artistic_features[artist]['total_plays'] += plays  \n",
    "        \n",
    "    return artistic_features"
   ]
  },
  {
   "cell_type": "code",
   "execution_count": 19,
   "metadata": {
    "collapsed": false
   },
   "outputs": [],
   "source": [
    "test = train.get_chunk(size=10)\n",
    "artistic_features = extract_artistic_features(test)"
   ]
  },
  {
   "cell_type": "code",
   "execution_count": null,
   "metadata": {
    "collapsed": true
   },
   "outputs": [],
   "source": []
  }
 ],
 "metadata": {
  "kernelspec": {
   "display_name": "Python 2",
   "language": "python",
   "name": "python2"
  },
  "language_info": {
   "codemirror_mode": {
    "name": "ipython",
    "version": 2
   },
   "file_extension": ".py",
   "mimetype": "text/x-python",
   "name": "python",
   "nbconvert_exporter": "python",
   "pygments_lexer": "ipython2",
   "version": "2.7.10"
  }
 },
 "nbformat": 4,
 "nbformat_minor": 2
}
