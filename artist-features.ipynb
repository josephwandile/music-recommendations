{
 "cells": [
  {
   "cell_type": "code",
   "execution_count": 97,
   "metadata": {
    "collapsed": false,
    "deletable": true,
    "editable": true
   },
   "outputs": [],
   "source": [
    "import requests as req\n",
    "import pandas as pd\n",
    "import xmltodict\n",
    "from incf.countryutils import transformations\n",
    "import numpy as np\n",
    "from collections import defaultdict\n",
    "import time\n",
    "import pickle"
   ]
  },
  {
   "cell_type": "code",
   "execution_count": 2,
   "metadata": {
    "collapsed": true,
    "deletable": true,
    "editable": true
   },
   "outputs": [],
   "source": [
    "resp = req.get('https://musicbrainz.org/ws/2/artist/cc197bad-dc9c-440d-a5b5-d52ba2e14234?inc=tags%20ratings')"
   ]
  },
  {
   "cell_type": "code",
   "execution_count": 3,
   "metadata": {
    "collapsed": true,
    "deletable": true,
    "editable": true
   },
   "outputs": [],
   "source": [
    "artist = xmltodict.parse(resp.text)['metadata']['artist']"
   ]
  },
  {
   "cell_type": "code",
   "execution_count": 4,
   "metadata": {
    "collapsed": false,
    "deletable": true,
    "editable": true
   },
   "outputs": [
    {
     "data": {
      "text/plain": [
       "OrderedDict([(u'@type-id', u'e431f5f6-b5d2-343d-8b36-72607fffb74b'),\n",
       "             (u'@type', u'Group'),\n",
       "             (u'@id', u'cc197bad-dc9c-440d-a5b5-d52ba2e14234'),\n",
       "             (u'name', u'Coldplay'),\n",
       "             (u'sort-name', u'Coldplay'),\n",
       "             (u'isni-list', OrderedDict([(u'isni', u'000000011551394X')])),\n",
       "             (u'country', u'GB'),\n",
       "             (u'area',\n",
       "              OrderedDict([(u'@id', u'8a754a16-0027-3a29-b6d7-2b40ea0481ed'),\n",
       "                           (u'name', u'United Kingdom'),\n",
       "                           (u'sort-name', u'United Kingdom'),\n",
       "                           (u'iso-3166-1-code-list',\n",
       "                            OrderedDict([(u'iso-3166-1-code', u'GB')]))])),\n",
       "             (u'begin-area',\n",
       "              OrderedDict([(u'@id', u'f03d09b3-39dc-4083-afd6-159e3f0d462f'),\n",
       "                           (u'name', u'London'),\n",
       "                           (u'sort-name', u'London')])),\n",
       "             (u'life-span', OrderedDict([(u'begin', u'1996-09')])),\n",
       "             (u'tag-list',\n",
       "              OrderedDict([(u'tag',\n",
       "                            [OrderedDict([(u'@count', u'7'),\n",
       "                                          (u'name', u'alternative rock')]),\n",
       "                             OrderedDict([(u'@count', u'1'),\n",
       "                                          (u'name', u'ambient pop')]),\n",
       "                             OrderedDict([(u'@count', u'0'),\n",
       "                                          (u'name', u'britannique')]),\n",
       "                             OrderedDict([(u'@count', u'5'),\n",
       "                                          (u'name', u'british')]),\n",
       "                             OrderedDict([(u'@count', u'0'),\n",
       "                                          (u'name', u'britpop')]),\n",
       "                             OrderedDict([(u'@count', u'0'),\n",
       "                                          (u'name', u'chapel')]),\n",
       "                             OrderedDict([(u'@count', u'0'),\n",
       "                                          (u'name', u'english')]),\n",
       "                             OrderedDict([(u'@count', u'0'),\n",
       "                                          (u'name', u'parlophone')]),\n",
       "                             OrderedDict([(u'@count', u'1'),\n",
       "                                          (u'name', u'piano pop')]),\n",
       "                             OrderedDict([(u'@count', u'3'),\n",
       "                                          (u'name', u'piano rock')]),\n",
       "                             OrderedDict([(u'@count', u'3'),\n",
       "                                          (u'name', u'pop')]),\n",
       "                             OrderedDict([(u'@count', u'2'),\n",
       "                                          (u'name', u'pop rock')]),\n",
       "                             OrderedDict([(u'@count', u'0'),\n",
       "                                          (u'name', u'pop/rock')]),\n",
       "                             OrderedDict([(u'@count', u'1'),\n",
       "                                          (u'name', u'post-britpop')]),\n",
       "                             OrderedDict([(u'@count', u'4'),\n",
       "                                          (u'name', u'rock')]),\n",
       "                             OrderedDict([(u'@count', u'0'),\n",
       "                                          (u'name', u'rock and indie')]),\n",
       "                             OrderedDict([(u'@count', u'2'),\n",
       "                                          (u'name', u'uk')])])])),\n",
       "             (u'rating',\n",
       "              OrderedDict([(u'@votes-count', u'24'), ('#text', u'4.35')]))])"
      ]
     },
     "execution_count": 4,
     "metadata": {},
     "output_type": "execute_result"
    }
   ],
   "source": [
    "artist"
   ]
  },
  {
   "cell_type": "code",
   "execution_count": 5,
   "metadata": {
    "collapsed": false,
    "deletable": true,
    "editable": true
   },
   "outputs": [],
   "source": [
    "artists_data = pd.read_csv('artists.csv')\n",
    "profiles_data = pd.read_csv('profiles.csv')\n",
    "train = pd.read_csv('train.csv')"
   ]
  },
  {
   "cell_type": "code",
   "execution_count": 109,
   "metadata": {
    "collapsed": true,
    "deletable": true,
    "editable": true
   },
   "outputs": [],
   "source": [
    "def get_region(country):\n",
    "    \n",
    "    # TODO Map with more granularity. Especially countries in Asia that are \n",
    "    # really middle eastern along with edge cases like South Africa\n",
    "\n",
    "    cn_to_ctn = {\n",
    "        'Antarctica': 'Other',\n",
    "        'Bouvet Island': 'Other',\n",
    "        'British Indian Ocean Territory': 'Other',\n",
    "        'Congo, the Democratic Republic of the': 'Africa',\n",
    "        \"Cote D'Ivoire\": 'Africa',\n",
    "        'Heard Island and Mcdonald Islands': 'Oceania',\n",
    "        'Iran, Islamic Republic of': 'Iran',\n",
    "        \"Korea, Democratic People's Republic of\": 'Other',\n",
    "        'Korea, Republic of': 'Asia',\n",
    "        'Kyrgyzstan': 'Asia',\n",
    "        'Micronesia, Federated States of': 'Oceania',\n",
    "        'Palestinian Territory, Occupied': 'Asia',\n",
    "        'Pitcairn': 'Other',\n",
    "        'Slovakia': 'Europe',\n",
    "        'Svalbard and Jan Mayen': 'Europe',\n",
    "        'Tanzania, United Republic of': 'Africa',\n",
    "        'United Kingdom': 'Europe',\n",
    "        'United States': 'North America',\n",
    "        'Viet Nam': 'Asia',\n",
    "        'Virgin Islands, British': 'North America',\n",
    "        'Virgin Islands, U.s.': 'North America',\n",
    "    }\n",
    "    \n",
    "    return cn_to_ctn[country] if country in cn_to_ctn else transformations.cn_to_ctn(country)"
   ]
  },
  {
   "cell_type": "code",
   "execution_count": 103,
   "metadata": {
    "collapsed": false,
    "deletable": true,
    "editable": true
   },
   "outputs": [],
   "source": [
    "def extract_artistic_features(data):\n",
    "    \n",
    "    start = time.clock()\n",
    "    \n",
    "    artistic_features = defaultdict(dict)\n",
    "    iter = 1\n",
    "    \n",
    "    users = profiles_data.set_index(['age', 'sex', 'country']).groupby('user').groups\n",
    "    fan_groups = data.set_index(['user', 'plays']).groupby(['artist']).groups\n",
    "    \n",
    "    for artist, fans in fan_groups.iteritems():\n",
    "        \n",
    "        artistic_features[artist] = defaultdict(int)        \n",
    "        for fan, plays in fans:\n",
    "            \n",
    "            age, sex, cn = users[fan][0]\n",
    "            \n",
    "            # Tally of number of listeners in each major region\n",
    "            region = get_region(cn)\n",
    "            artistic_features[artist][region] += 1\n",
    "\n",
    "            # Listeners by gender\n",
    "            if sex == sex:  # Sex is defined\n",
    "                artistic_features[artist][sex] += 1\n",
    "                artistic_features[artist]['gender_count'] += 1\n",
    "\n",
    "            # To calculate average age of listeners \n",
    "            if age == age: \n",
    "                artistic_features[artist]['age_count'] += 1\n",
    "                artistic_features[artist]['sum_of_ages'] += age\n",
    "\n",
    "            # Total listeners\n",
    "            artistic_features[artist]['count'] += 1\n",
    "\n",
    "            # Total plays\n",
    "            artistic_features[artist]['total_plays'] += plays  \n",
    "            \n",
    "        artistic_features[artist]['average_age'] = artistic_features[artist]['sum_of_ages'] / float(artistic_features[artist]['age_count'])\n",
    "        artistic_features[artist]['prop_female'] = artistic_features[artist]['f'] / float(artistic_features[artist]['gender_count'])\n",
    "        artistic_features[artist]['prop_male'] = artistic_features[artist]['m'] / float(artistic_features[artist]['gender_count'])\n",
    "        for r in ['Africa', 'Antarctica', 'Asia', 'Europe', 'North America', \n",
    "                  'North Korea', 'Oceania', 'Other', 'South America']:\n",
    "            artistic_features[artist][r] = artistic_features[artist][r] / float(artistic_features[artist]['count'])\n",
    "        \n",
    "    print(time.clock() - start)\n",
    "    return artistic_features"
   ]
  },
  {
   "cell_type": "code",
   "execution_count": 104,
   "metadata": {
    "collapsed": false,
    "deletable": true,
    "editable": true
   },
   "outputs": [
    {
     "name": "stdout",
     "output_type": "stream",
     "text": [
      "20.98387\n"
     ]
    }
   ],
   "source": [
    "artistic_features = extract_artistic_features(train)"
   ]
  },
  {
   "cell_type": "code",
   "execution_count": 105,
   "metadata": {
    "collapsed": true,
    "deletable": true,
    "editable": true
   },
   "outputs": [],
   "source": [
    "pickle.dump(artistic_features, open('artistic_features.pkl', 'w'))"
   ]
  }
 ],
 "metadata": {
  "kernelspec": {
   "display_name": "Python 2",
   "language": "python",
   "name": "python2"
  },
  "language_info": {
   "codemirror_mode": {
    "name": "ipython",
    "version": 2
   },
   "file_extension": ".py",
   "mimetype": "text/x-python",
   "name": "python",
   "nbconvert_exporter": "python",
   "pygments_lexer": "ipython2",
   "version": "2.7.10"
  }
 },
 "nbformat": 4,
 "nbformat_minor": 2
}
