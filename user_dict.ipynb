{
 "cells": [
  {
   "cell_type": "code",
   "execution_count": 1,
   "metadata": {
    "collapsed": false
   },
   "outputs": [
    {
     "name": "stdout",
     "output_type": "stream",
     "text": [
      "{'fa40b43298ba3f8aa52e8e8863faf2e2171e0b5d': {'country': 'Sweden', 'age': 25, 'sex': 'f'}, '5909125332c108365a26ccf0ee62636eee08215c': {'country': 'Iceland', 'age': 29, 'sex': 'm'}, 'd1867cbda35e0d48e9a8390d9f5e079c9d99ea96': {'country': 'United States', 'age': 30, 'sex': 'm'}, '02871cd952d607ba69b64e2e107773012c708113': {'country': 'Netherlands', 'age': 24, 'sex': 'm'}, '0938eb3d1b449b480c4e2431c457f6ead7063a34': {'country': 'United States', 'age': 22, 'sex': 'm'}, '63268cce0d68127729890c1691f62d5be5abd87c': {'country': 'Germany', 'age': 21, 'sex': 'm'}, 'b97479f9a563a5c43b423a976f51fd509e1ec5ba': {'country': 'Poland', 'age': 0, 'sex': 'f'}, '3bb020df0ff376dfdded4d5e63e2d35a50b3c535': {'country': 'United States', 'age': 0, 'sex': 'm'}, 'f3fb86c0f024f640cae3fb479f3a27e0dd499891': {'country': 'Ukraine', 'age': 16, 'sex': ''}, 'ed3f59e940c08a34434ecb999cbb184bd4f3fe60': {'country': 'Italy', 'age': 44, 'sex': 'm'}, '84b0024025a9b85ac11250419f2223cd36171be7': {'country': 'Russian Federation', 'age': 17, 'sex': 'm'}, '6af1f8a3748f2905913f1ef698d319fb39251200': {'country': 'Germany', 'age': 25, 'sex': 'm'}, 'beb313d271e1b0aee0d43e2598ad606b97246151': {'country': 'Australia', 'age': 22, 'sex': 'f'}, '11c25963a9ae5012163b415852655ff5443c977f': {'country': 'Germany', 'age': 34, 'sex': 'm'}, '7970e94ae2fcbcac725c395dfdbaf4cfb7e44e1e': {'country': 'United States', 'age': 0, 'sex': 'm'}, 'b9a661b805db8a7dcfec13e4800717c43ae89ae5': {'country': 'United States', 'age': 22, 'sex': 'm'}, '80460a9d1c784e730a1fe65e16ce5c7945330e6d': {'country': 'Canada', 'age': 22, 'sex': 'm'}, 'e5e50794b2db0d26f0bd0b3a184f194e5bec061c': {'country': 'Germany', 'age': 0, 'sex': 'm'}, 'c37faca0c57b00494e651ecde3904de9fa90ad1f': {'country': 'Sweden', 'age': 0, 'sex': 'm'}, '839c2151683c88bd98ad1ab722c4132a8e716768': {'country': 'United States', 'age': 28, 'sex': 'f'}, '359ab576844541274a6a9c25de6c5d2c3afc8276': {'country': 'United States', 'age': 39, 'sex': 'm'}, '84cc3f058c77d8c7e1ae84c283933f53af3eb180': {'country': 'Portugal', 'age': 19, 'sex': 'm'}, 'e7dde2f288c7b2fe346f9636cfc8fc34f0872aee': {'country': 'Costa Rica', 'age': 24, 'sex': 'm'}, 'ac9db65cd3c8c7fe5706e0f66e1fa059a0561ea5': {'country': 'Hungary', 'age': 26, 'sex': 'm'}, 'a86fd27367de6b0d941dee935ed6b4b372a4cd45': {'country': 'Netherlands', 'age': 19, 'sex': 'f'}, '183d198ef2792f574424cc6f3f9d09bced452d51': {'country': 'United States', 'age': 21, 'sex': 'm'}, '1b4ef9617afd392118725e262b382dd48c492b1d': {'country': 'United Kingdom', 'age': 21, 'sex': 'm'}, '4ad41d05bfc952300391878d4e8d30f74787772b': {'country': 'Estonia', 'age': 22, 'sex': ''}, '4e28e38471f196d46bf7403f165e13035a48b287': {'country': 'Netherlands', 'age': 25, 'sex': 'f'}, '47675320952522bd469052fa1b462146be897b27': {'country': 'Netherlands', 'age': 18, 'sex': 'm'}, 'c5658413edd826e40fba33e464d82dd20dcde76e': {'country': 'United Kingdom', 'age': 32, 'sex': 'm'}, '45950bd083c4aa89d2c3160da20bf640643b2b2e': {'country': 'Spain', 'age': 32, 'sex': 'm'}, '3e1225114c276905d5ff89a02a866c47bac8165c': {'country': 'Germany', 'age': 28, 'sex': 'm'}, '2c4e1691711983ad84c21f1a3c1075a3dadabf5a': {'country': 'United Kingdom', 'age': 24, 'sex': 'm'}, '1824621b1b72cfbbbd11682624ad4fffeb439fd9': {'country': 'Germany', 'age': 0, 'sex': 'm'}, '46787f2e975dd92f452effdc25cf9760ab3163ae': {'country': 'Spain', 'age': 17, 'sex': 'm'}, 'f2b5d1e5f312836cef686eb5c9234ab449f88eb4': {'country': 'United Kingdom', 'age': 21, 'sex': 'm'}, 'db0209d62c2e1be16113fdfb20bb74f1cd5e750a': {'country': 'Germany', 'age': 24, 'sex': 'm'}, '607134d79c25c35d9daa2f6fa85a60662cfce6fa': {'country': 'United States', 'age': 21, 'sex': 'f'}, '8395d3c415a30cad9d2691d7960250469893b441': {'country': 'France', 'age': 21, 'sex': 'm'}, '0be516ddd65d9d5eed64b35fc520c4ef45571363': {'country': 'Norway', 'age': 0, 'sex': 'm'}, 'c99d78fa2feea3ae100dcad714d4484f125c93d4': {'country': 'United Kingdom', 'age': 32, 'sex': 'f'}, '1b7b34e7ff9722a88476da0ab50162a98fb31e53': {'country': 'United Kingdom', 'age': 0, 'sex': 'm'}, 'c2d39f1870cd66adc746efac1c48831ecfacc3a4': {'country': 'Portugal', 'age': 33, 'sex': 'm'}, 'a16e1321f90656ddfca04529a75aeef63a6a021c': {'country': 'Hungary', 'age': 25, 'sex': 'm'}, '5b246febe3d5d4efe8d632b974dbaf4bba47a3a4': {'country': 'United States', 'age': 31, 'sex': 'm'}, 'dcea45120a63ddfae3c1078b4ed34d4b12f6e7a6': {'country': 'Spain', 'age': 29, 'sex': 'm'}, '71c08ad470a7bacf49d4767fd23119830c373933': {'country': 'Finland', 'age': 18, 'sex': 'm'}, '9d5bba7b457eadc382b3c53aee8d76c1504fef1b': {'country': 'Brazil', 'age': 25, 'sex': 'm'}, 'b71a4afe564f7f6354d9a8210af1b49e9b9e220d': {'country': 'Poland', 'age': 21, 'sex': ''}, 'df9793660e93fa9410298838a799c07c494c3c90': {'country': 'Australia', 'age': 19, 'sex': 'm'}, '1dfeecc146b630465f7678f4c619bf6874ac7387': {'country': 'Canada', 'age': 29, 'sex': 'f'}, '99ce4a25aa837d5f8c2dcf732a5635301db5833e': {'country': 'United States', 'age': 23, 'sex': 'm'}, '6ad6d1c283dacbdc7d78bb74995a0e5e27a79c0d': {'country': 'United States', 'age': 0, 'sex': 'm'}, 'bb3786b35334f80edf762bca53b8d146fe2c53b8': {'country': 'Brazil', 'age': 20, 'sex': 'm'}, 'a910bbb2b08e2e5875c1801b6512e27bc0c87382': {'country': 'Bulgaria', 'age': 20, 'sex': 'f'}, '734cb056a6716fbee6fd6069827d7d7b3cd9f402': {'country': 'Canada', 'age': 17, 'sex': ''}, '959317132369aab1009580ee85d7b09e42155db0': {'country': 'Netherlands', 'age': 30, 'sex': 'm'}, '6f6061ee85758d2f28dc813793d10fc28cc7ab3e': {'country': 'Austria', 'age': 24, 'sex': 'm'}, '75ea9b3a2c03b8a327bc6a56f8699c4181d25e1f': {'country': 'Ukraine', 'age': 17, 'sex': 'f'}, '1ac7d54e49b271a469c1e17e024672e9ef0ca9d0': {'country': 'Croatia', 'age': 22, 'sex': ''}, '19f644ea1868448f88ca21f7993996b30eb54c9d': {'country': 'United States', 'age': 0, 'sex': 'f'}, '552cc8e1f73988acab7160f0f0d4830f7ccd01f7': {'country': 'Ukraine', 'age': 0, 'sex': ''}, 'd0af1e9ce43dd0533d7ae456d75d4a09177e413d': {'country': 'Sweden', 'age': 30, 'sex': ''}, '26990d5bcc3e6d150b7d89687c9cf4a20a79633a': {'country': 'United States', 'age': 19, 'sex': 'f'}, 'b7931b85a110703e0f8569894636a2e1a110f975': {'country': 'United States', 'age': 21, 'sex': 'm'}, '070ec198a89f29a0d90936897ad195ec46cbd691': {'country': 'Malaysia', 'age': 24, 'sex': 'm'}, 'fede26b37a5151b62556056e932bec0895e93e0a': {'country': 'United Kingdom', 'age': 18, 'sex': 'm'}, '0a8ad5383d3ca84ac58af91e0aeae7230d6b6962': {'country': 'Russian Federation', 'age': 0, 'sex': 'm'}, 'ec8122c4ecb23bec3a8744428443e14a80948071': {'country': 'Russian Federation', 'age': 20, 'sex': 'f'}, '1476cd503e20f79ca50132049c1979b26f590ed6': {'country': 'Sweden', 'age': 22, 'sex': 'f'}, 'fea597b10f5db5e74b3d36d2d151fb5458750bdc': {'country': 'Peru', 'age': 29, 'sex': 'm'}, 'b1dd6844c76d1545ec3aec15180686fbdfb60259': {'country': 'Germany', 'age': 66, 'sex': 'm'}, 'b98d978c6a0c09d3c92d765c7415237f7f527c48': {'country': 'Mexico', 'age': 26, 'sex': 'm'}, 'af3ba12e0a932b3ad9670623ba51b83bf0c7726b': {'country': 'Russian Federation', 'age': 0, 'sex': 'f'}, '00a74ef9e8e3fc4010014086dc25fb7fe2e77916': {'country': 'United States', 'age': 36, 'sex': 'm'}, '3b351eaa692d03e63f8db89559552eda9d3ef954': {'country': 'Finland', 'age': 22, 'sex': 'f'}, 'dd77c69fa8cb2cf4632eb72851706a6f516a1f48': {'country': 'Netherlands', 'age': 22, 'sex': 'm'}, 'df61a07590f10870c964467fece01c93a299c387': {'country': 'Bermuda', 'age': 18, 'sex': 'f'}, '1b849acebdba7078696693b7e4cd1c35f764dd69': {'country': 'United States', 'age': 26, 'sex': 'm'}, '6f51935cba5c2306ff98373bdd67b429791427b9': {'country': 'United States', 'age': 20, 'sex': 'f'}, 'e900854cc2eb1a3d83a63f665166c5b8cf7ca426': {'country': 'Spain', 'age': 23, 'sex': 'm'}, '1cd29a2d060937a555b19684253e6bf008632ca7': {'country': 'United Kingdom', 'age': 0, 'sex': 'm'}, 'd5dbb12d022f5e99d80323a9ca90dfa6bc28cfcd': {'country': 'Latvia', 'age': 20, 'sex': 'f'}, '685841565298877a9a295392ed19af2c5f6b2ce0': {'country': 'United Kingdom', 'age': 24, 'sex': 'm'}, '58ca61d00a37ab8047a656f98fc2298fbdcf6c63': {'country': 'United States', 'age': 20, 'sex': 'm'}, '6fbe823dffbc9e0c8a7bce031bf8cf7685dc4914': {'country': 'United States', 'age': 0, 'sex': 'f'}, '768cd9bf01ec1654bf6f7b1577dbd890fe433b94': {'country': 'Spain', 'age': 25, 'sex': 'm'}, '12ba7df7db909f4d44024682ca653042b48e65b8': {'country': 'United Kingdom', 'age': 17, 'sex': 'm'}, 'fadb35ec6a0d7171e0ce70bb147dc369858d1891': {'country': 'United States', 'age': 18, 'sex': 'f'}, '0f95fbaa2918ed71c7ae54fe6efa59af49e3cfba': {'country': 'United Kingdom', 'age': 36, 'sex': 'm'}, '637fb3b458ab27744b4c0432d0d2d7fd09e4addc': {'country': 'United States', 'age': 0, 'sex': 'f'}, '45ca60e66b4a45470d818e1fb07fdb7ce1a3453b': {'country': 'United States', 'age': 19, 'sex': 'm'}, '97204899c6e03170ded374a82b250166b3434546': {'country': 'Canada', 'age': 20, 'sex': 'm'}, '2198d4f34035903bdb1e2f4e1410b774dc59582d': {'country': 'Italy', 'age': 0, 'sex': ''}, '0032545b9bcbf83c8c6b80cc07b62b7692905b3a': {'country': 'Belgium', 'age': 25, 'sex': 'm'}, '67ce946ee9baad1e8414c73a32282625fd52f2e9': {'country': 'Australia', 'age': 18, 'sex': 'm'}, 'eb11142de62dfc61e74660264128bc0129795087': {'country': 'Poland', 'age': 22, 'sex': 'f'}, '4b49cf73e79ee322cb89dd4fb728d4b279fa4a23': {'country': 'Belgium', 'age': 19, 'sex': 'm'}, '62b81e12d59ad469cfeb07fb4fa47c9237609e1b': {'country': 'Canada', 'age': 21, 'sex': 'f'}, '6abc777b03ad1bc0c7131cb5dbfa67455ed26b56': {'country': 'United States', 'age': 25, 'sex': 'm'}, '6bc3dc71df6a5605a459d89b95238a355e452b0f': {'country': 'Philippines', 'age': 20, 'sex': 'f'}, '86fc70bf12af508a74e72b7726c26af3ada330ba': {'country': 'Costa Rica', 'age': 35, 'sex': 'm'}, '37220e459585b2821cf418aac38bc2059569a54f': {'country': 'United States', 'age': 27, 'sex': 'm'}, '9943191595303512cce56a7f771fb5d9582848c4': {'country': 'Slovenia', 'age': 23, 'sex': 'f'}, 'e4c6b36e65db3d48474dd538fe74d2dbb5a2e79e': {'country': 'United States', 'age': 0, 'sex': 'f'}, '6e203bdf14f6bb7105fd7bd708573cd5d59d4373': {'country': 'Norway', 'age': 34, 'sex': 'm'}, 'dae3cb9f2fa3e98a084f1dae21beafbbddecb298': {'country': 'Poland', 'age': 22, 'sex': 'm'}, '8a692f0a3c2dd56e7d31553212ba8df3e128fa5a': {'country': 'France', 'age': 22, 'sex': 'm'}}\n"
     ]
    }
   ],
   "source": [
    "import numpy as np\n",
    "import csv\n",
    "from sklearn.cluster import KMeans\n",
    "import pandas as pd\n",
    "import pickle\n",
    "from sklearn import preprocessing\n",
    "\n",
    "train_data = pd.read_csv('train.csv', nrows=10000)\n",
    "profiles_file = \"profiles.csv\"\n",
    "\n",
    "ids = []\n",
    "profiles_data = {}\n",
    "with open(profiles_file, 'r') as profiles_fh:\n",
    "    profiles_csv = csv.reader(profiles_fh, delimiter=',', quotechar='\"')\n",
    "    next(profiles_csv, None)\n",
    "    for row in profiles_csv:\n",
    "        user = row[0]\n",
    "        sex = row[1]\n",
    "        age  = row[2]\n",
    "        if age == '':\n",
    "            age = 0\n",
    "        if sex == '':\n",
    "            sex = 'u'\n",
    "        country = row[3]\n",
    "        \n",
    "        if not user in profiles_data:\n",
    "            profiles_data[user] = {}\n",
    "            ids.append(user)\n",
    "\n",
    "        profiles_data[user]['sex'] = sex\n",
    "        profiles_data[user]['age'] = int(age)\n",
    "        profiles_data[user]['country'] = country\n",
    "\n",
    "\n",
    "for _, row in train_data.iterrows():\n",
    "    user = row['user']\n",
    "    if user in profiles_data:\n",
    "        if not 'num_artists' in profiles_data[user]:\n",
    "            profiles_data[user]['num_artists'] = 0\n",
    "        if not 'num_plays' in profiles_data[user]:\n",
    "            profiles_data[user]['num_plays'] = 0\n",
    "        \n",
    "        profiles_data[user]['num_artists'] += 1\n",
    "        profiles_data[user]['num_plays'] += row['plays']\n",
    "        "
   ]
  },
  {
   "cell_type": "code",
   "execution_count": null,
   "metadata": {
    "collapsed": true
   },
   "outputs": [],
   "source": [
    "artist_lookup_dict = pickle.load(open('artist_lookup.pkl'))\n",
    "playlists = pickle.load(open('playlist.pkl'))\n",
    "user_artist_dict = playlists.set_index('artist').groupby('user').groups\n",
    "#user_artist_dict\n",
    "#artist_lookup_dict\n",
    "\n",
    "\n",
    "for _,row in train_data.iterrows():\n",
    "    genres = {}\n",
    "    total_popularity = 0\n",
    "    user = row['user']\n",
    "    num_artists = len(user_artist_dict[user])\n",
    "    for artist in user_artist_dict[user]:\n",
    "        for genre in artist_lookup_dict[artist][genres]\n",
    "            if not genre in genres:\n",
    "                genres[genre] = 1\n",
    "            else:\n",
    "                genres[genre] += 1\n",
    "        total_popularity += artist_lookup_dict[artist][popularity]\n",
    "    top5_genres = dict(sorted(genres.iteritems(), key=operator.itemgetter(1), reverse=True)[:5])\n",
    "    profiles_data[user]['top_genres'] = top5_genres\n",
    "    profiles_data[user]['average_popularity'] = total_popularity / num_artists\n",
    "    \n",
    "#print profiles_data"
   ]
  },
  {
   "cell_type": "code",
   "execution_count": null,
   "metadata": {
    "collapsed": true
   },
   "outputs": [],
   "source": []
  }
 ],
 "metadata": {
  "kernelspec": {
   "display_name": "Python 2",
   "language": "python",
   "name": "python2"
  },
  "language_info": {
   "codemirror_mode": {
    "name": "ipython",
    "version": 2
   },
   "file_extension": ".py",
   "mimetype": "text/x-python",
   "name": "python",
   "nbconvert_exporter": "python",
   "pygments_lexer": "ipython2",
   "version": "2.7.13"
  }
 },
 "nbformat": 4,
 "nbformat_minor": 2
}
